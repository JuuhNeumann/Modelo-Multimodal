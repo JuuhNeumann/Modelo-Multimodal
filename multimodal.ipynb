{
  "nbformat": 4,
  "nbformat_minor": 0,
  "metadata": {
    "colab": {
      "provenance": []
    },
    "kernelspec": {
      "name": "python3",
      "display_name": "Python 3"
    },
    "language_info": {
      "name": "python"
    }
  },
  "cells": [
    {
      "cell_type": "code",
      "source": [
        "import pandas as pd\n",
        "import numpy as np\n",
        "from keras.layers import Input,Concatenate\n",
        "from keras.models import Model\n",
        "from keras.layers import Dense,Conv2D,MaxPooling2D,Flatten\n",
        "from tensorflow.keras.utils import plot_model\n",
        "from sklearn.model_selection import train_test_split"
      ],
      "metadata": {
        "id": "GjQdu7tww7KG"
      },
      "execution_count": null,
      "outputs": []
    },
    {
      "cell_type": "code",
      "source": [
        "from google.colab import drive\n",
        "drive.mount('/content/drive')"
      ],
      "metadata": {
        "colab": {
          "base_uri": "https://localhost:8080/"
        },
        "id": "DiT_MfhqxCqx",
        "outputId": "08aaa76d-04da-41f9-ab8a-5405ecefb31f"
      },
      "execution_count": null,
      "outputs": [
        {
          "output_type": "stream",
          "name": "stdout",
          "text": [
            "Mounted at /content/drive\n"
          ]
        }
      ]
    },
    {
      "cell_type": "code",
      "source": [
        "df_lstm = pd.read_csv('/content/drive/MyDrive/Colab Notebooks/15-02-2022/data.csv', sep=';', decimal=',', index_col=False)"
      ],
      "metadata": {
        "id": "dphfkKTvzC2b"
      },
      "execution_count": null,
      "outputs": []
    },
    {
      "cell_type": "code",
      "execution_count": null,
      "metadata": {
        "id": "6DbmFkTxwyWf"
      },
      "outputs": [],
      "source": [
        "df_tabular = pd.read_csv('/content/drive/MyDrive/Colab Notebooks/15-02-2022/data.csv', sep=';', decimal=',', index_col=False)"
      ]
    },
    {
      "cell_type": "code",
      "source": [
        "df_tabular.head()"
      ],
      "metadata": {
        "id": "iJmUK8M5xNzH",
        "colab": {
          "base_uri": "https://localhost:8080/",
          "height": 206
        },
        "outputId": "22c0f260-010f-4b7d-b947-e7cef74f44b6"
      },
      "execution_count": null,
      "outputs": [
        {
          "output_type": "execute_result",
          "data": {
            "text/plain": [
              "    municipio  codEstacao  uf        nomeEstacao   latitude  longitude  \\\n",
              "0  PETRÓPOLIS  330390601G  RJ  Quitandinha - Geo -43.223916 -22.524907   \n",
              "1  PETRÓPOLIS  330390601G  RJ  Quitandinha - Geo -43.223916 -22.524907   \n",
              "2  PETRÓPOLIS  330390601G  RJ  Quitandinha - Geo -43.223916 -22.524907   \n",
              "3  PETRÓPOLIS  330390601G  RJ  Quitandinha - Geo -43.223916 -22.524907   \n",
              "4  PETRÓPOLIS  330390601G  RJ  Quitandinha - Geo -43.223916 -22.524907   \n",
              "\n",
              "                datahora  valorMedida  \n",
              "0  2022-02-01 00:10:00.0          0.0  \n",
              "1  2022-02-01 01:10:00.0          0.0  \n",
              "2  2022-02-01 02:10:00.0          0.0  \n",
              "3  2022-02-01 03:10:00.0          0.0  \n",
              "4  2022-02-01 04:10:00.0          0.0  "
            ],
            "text/html": [
              "\n",
              "  <div id=\"df-8939700f-85eb-4dfc-9c3f-e877ccc91eec\">\n",
              "    <div class=\"colab-df-container\">\n",
              "      <div>\n",
              "<style scoped>\n",
              "    .dataframe tbody tr th:only-of-type {\n",
              "        vertical-align: middle;\n",
              "    }\n",
              "\n",
              "    .dataframe tbody tr th {\n",
              "        vertical-align: top;\n",
              "    }\n",
              "\n",
              "    .dataframe thead th {\n",
              "        text-align: right;\n",
              "    }\n",
              "</style>\n",
              "<table border=\"1\" class=\"dataframe\">\n",
              "  <thead>\n",
              "    <tr style=\"text-align: right;\">\n",
              "      <th></th>\n",
              "      <th>municipio</th>\n",
              "      <th>codEstacao</th>\n",
              "      <th>uf</th>\n",
              "      <th>nomeEstacao</th>\n",
              "      <th>latitude</th>\n",
              "      <th>longitude</th>\n",
              "      <th>datahora</th>\n",
              "      <th>valorMedida</th>\n",
              "    </tr>\n",
              "  </thead>\n",
              "  <tbody>\n",
              "    <tr>\n",
              "      <th>0</th>\n",
              "      <td>PETRÓPOLIS</td>\n",
              "      <td>330390601G</td>\n",
              "      <td>RJ</td>\n",
              "      <td>Quitandinha - Geo</td>\n",
              "      <td>-43.223916</td>\n",
              "      <td>-22.524907</td>\n",
              "      <td>2022-02-01 00:10:00.0</td>\n",
              "      <td>0.0</td>\n",
              "    </tr>\n",
              "    <tr>\n",
              "      <th>1</th>\n",
              "      <td>PETRÓPOLIS</td>\n",
              "      <td>330390601G</td>\n",
              "      <td>RJ</td>\n",
              "      <td>Quitandinha - Geo</td>\n",
              "      <td>-43.223916</td>\n",
              "      <td>-22.524907</td>\n",
              "      <td>2022-02-01 01:10:00.0</td>\n",
              "      <td>0.0</td>\n",
              "    </tr>\n",
              "    <tr>\n",
              "      <th>2</th>\n",
              "      <td>PETRÓPOLIS</td>\n",
              "      <td>330390601G</td>\n",
              "      <td>RJ</td>\n",
              "      <td>Quitandinha - Geo</td>\n",
              "      <td>-43.223916</td>\n",
              "      <td>-22.524907</td>\n",
              "      <td>2022-02-01 02:10:00.0</td>\n",
              "      <td>0.0</td>\n",
              "    </tr>\n",
              "    <tr>\n",
              "      <th>3</th>\n",
              "      <td>PETRÓPOLIS</td>\n",
              "      <td>330390601G</td>\n",
              "      <td>RJ</td>\n",
              "      <td>Quitandinha - Geo</td>\n",
              "      <td>-43.223916</td>\n",
              "      <td>-22.524907</td>\n",
              "      <td>2022-02-01 03:10:00.0</td>\n",
              "      <td>0.0</td>\n",
              "    </tr>\n",
              "    <tr>\n",
              "      <th>4</th>\n",
              "      <td>PETRÓPOLIS</td>\n",
              "      <td>330390601G</td>\n",
              "      <td>RJ</td>\n",
              "      <td>Quitandinha - Geo</td>\n",
              "      <td>-43.223916</td>\n",
              "      <td>-22.524907</td>\n",
              "      <td>2022-02-01 04:10:00.0</td>\n",
              "      <td>0.0</td>\n",
              "    </tr>\n",
              "  </tbody>\n",
              "</table>\n",
              "</div>\n",
              "      <button class=\"colab-df-convert\" onclick=\"convertToInteractive('df-8939700f-85eb-4dfc-9c3f-e877ccc91eec')\"\n",
              "              title=\"Convert this dataframe to an interactive table.\"\n",
              "              style=\"display:none;\">\n",
              "        \n",
              "  <svg xmlns=\"http://www.w3.org/2000/svg\" height=\"24px\"viewBox=\"0 0 24 24\"\n",
              "       width=\"24px\">\n",
              "    <path d=\"M0 0h24v24H0V0z\" fill=\"none\"/>\n",
              "    <path d=\"M18.56 5.44l.94 2.06.94-2.06 2.06-.94-2.06-.94-.94-2.06-.94 2.06-2.06.94zm-11 1L8.5 8.5l.94-2.06 2.06-.94-2.06-.94L8.5 2.5l-.94 2.06-2.06.94zm10 10l.94 2.06.94-2.06 2.06-.94-2.06-.94-.94-2.06-.94 2.06-2.06.94z\"/><path d=\"M17.41 7.96l-1.37-1.37c-.4-.4-.92-.59-1.43-.59-.52 0-1.04.2-1.43.59L10.3 9.45l-7.72 7.72c-.78.78-.78 2.05 0 2.83L4 21.41c.39.39.9.59 1.41.59.51 0 1.02-.2 1.41-.59l7.78-7.78 2.81-2.81c.8-.78.8-2.07 0-2.86zM5.41 20L4 18.59l7.72-7.72 1.47 1.35L5.41 20z\"/>\n",
              "  </svg>\n",
              "      </button>\n",
              "      \n",
              "  <style>\n",
              "    .colab-df-container {\n",
              "      display:flex;\n",
              "      flex-wrap:wrap;\n",
              "      gap: 12px;\n",
              "    }\n",
              "\n",
              "    .colab-df-convert {\n",
              "      background-color: #E8F0FE;\n",
              "      border: none;\n",
              "      border-radius: 50%;\n",
              "      cursor: pointer;\n",
              "      display: none;\n",
              "      fill: #1967D2;\n",
              "      height: 32px;\n",
              "      padding: 0 0 0 0;\n",
              "      width: 32px;\n",
              "    }\n",
              "\n",
              "    .colab-df-convert:hover {\n",
              "      background-color: #E2EBFA;\n",
              "      box-shadow: 0px 1px 2px rgba(60, 64, 67, 0.3), 0px 1px 3px 1px rgba(60, 64, 67, 0.15);\n",
              "      fill: #174EA6;\n",
              "    }\n",
              "\n",
              "    [theme=dark] .colab-df-convert {\n",
              "      background-color: #3B4455;\n",
              "      fill: #D2E3FC;\n",
              "    }\n",
              "\n",
              "    [theme=dark] .colab-df-convert:hover {\n",
              "      background-color: #434B5C;\n",
              "      box-shadow: 0px 1px 3px 1px rgba(0, 0, 0, 0.15);\n",
              "      filter: drop-shadow(0px 1px 2px rgba(0, 0, 0, 0.3));\n",
              "      fill: #FFFFFF;\n",
              "    }\n",
              "  </style>\n",
              "\n",
              "      <script>\n",
              "        const buttonEl =\n",
              "          document.querySelector('#df-8939700f-85eb-4dfc-9c3f-e877ccc91eec button.colab-df-convert');\n",
              "        buttonEl.style.display =\n",
              "          google.colab.kernel.accessAllowed ? 'block' : 'none';\n",
              "\n",
              "        async function convertToInteractive(key) {\n",
              "          const element = document.querySelector('#df-8939700f-85eb-4dfc-9c3f-e877ccc91eec');\n",
              "          const dataTable =\n",
              "            await google.colab.kernel.invokeFunction('convertToInteractive',\n",
              "                                                     [key], {});\n",
              "          if (!dataTable) return;\n",
              "\n",
              "          const docLinkHtml = 'Like what you see? Visit the ' +\n",
              "            '<a target=\"_blank\" href=https://colab.research.google.com/notebooks/data_table.ipynb>data table notebook</a>'\n",
              "            + ' to learn more about interactive tables.';\n",
              "          element.innerHTML = '';\n",
              "          dataTable['output_type'] = 'display_data';\n",
              "          await google.colab.output.renderOutput(dataTable, element);\n",
              "          const docLink = document.createElement('div');\n",
              "          docLink.innerHTML = docLinkHtml;\n",
              "          element.appendChild(docLink);\n",
              "        }\n",
              "      </script>\n",
              "    </div>\n",
              "  </div>\n",
              "  "
            ]
          },
          "metadata": {},
          "execution_count": 5
        }
      ]
    },
    {
      "cell_type": "code",
      "source": [
        "df_tabular = df_tabular[[\"latitude\", \"longitude\"]]"
      ],
      "metadata": {
        "id": "KyBg0EG8xUTw"
      },
      "execution_count": null,
      "outputs": []
    },
    {
      "cell_type": "code",
      "source": [
        "df_tabular.shape"
      ],
      "metadata": {
        "id": "cLOYl-M6xwHe",
        "colab": {
          "base_uri": "https://localhost:8080/"
        },
        "outputId": "3cdf85f6-2b53-44c1-f93e-6d196abd6ba9"
      },
      "execution_count": null,
      "outputs": [
        {
          "output_type": "execute_result",
          "data": {
            "text/plain": [
              "(12994, 2)"
            ]
          },
          "metadata": {},
          "execution_count": 7
        }
      ]
    },
    {
      "cell_type": "code",
      "source": [
        "df_lstm.head()"
      ],
      "metadata": {
        "colab": {
          "base_uri": "https://localhost:8080/",
          "height": 206
        },
        "id": "FDpZ8sZ4zF8F",
        "outputId": "c1a26d2a-de74-437e-d0ac-522daef81e8f"
      },
      "execution_count": null,
      "outputs": [
        {
          "output_type": "execute_result",
          "data": {
            "text/plain": [
              "    municipio  codEstacao  uf        nomeEstacao   latitude  longitude  \\\n",
              "0  PETRÓPOLIS  330390601G  RJ  Quitandinha - Geo -43.223916 -22.524907   \n",
              "1  PETRÓPOLIS  330390601G  RJ  Quitandinha - Geo -43.223916 -22.524907   \n",
              "2  PETRÓPOLIS  330390601G  RJ  Quitandinha - Geo -43.223916 -22.524907   \n",
              "3  PETRÓPOLIS  330390601G  RJ  Quitandinha - Geo -43.223916 -22.524907   \n",
              "4  PETRÓPOLIS  330390601G  RJ  Quitandinha - Geo -43.223916 -22.524907   \n",
              "\n",
              "                datahora  valorMedida  \n",
              "0  2022-02-01 00:10:00.0          0.0  \n",
              "1  2022-02-01 01:10:00.0          0.0  \n",
              "2  2022-02-01 02:10:00.0          0.0  \n",
              "3  2022-02-01 03:10:00.0          0.0  \n",
              "4  2022-02-01 04:10:00.0          0.0  "
            ],
            "text/html": [
              "\n",
              "  <div id=\"df-4b3bcbd6-b6cf-4c9d-801d-f5c8e7aa668d\">\n",
              "    <div class=\"colab-df-container\">\n",
              "      <div>\n",
              "<style scoped>\n",
              "    .dataframe tbody tr th:only-of-type {\n",
              "        vertical-align: middle;\n",
              "    }\n",
              "\n",
              "    .dataframe tbody tr th {\n",
              "        vertical-align: top;\n",
              "    }\n",
              "\n",
              "    .dataframe thead th {\n",
              "        text-align: right;\n",
              "    }\n",
              "</style>\n",
              "<table border=\"1\" class=\"dataframe\">\n",
              "  <thead>\n",
              "    <tr style=\"text-align: right;\">\n",
              "      <th></th>\n",
              "      <th>municipio</th>\n",
              "      <th>codEstacao</th>\n",
              "      <th>uf</th>\n",
              "      <th>nomeEstacao</th>\n",
              "      <th>latitude</th>\n",
              "      <th>longitude</th>\n",
              "      <th>datahora</th>\n",
              "      <th>valorMedida</th>\n",
              "    </tr>\n",
              "  </thead>\n",
              "  <tbody>\n",
              "    <tr>\n",
              "      <th>0</th>\n",
              "      <td>PETRÓPOLIS</td>\n",
              "      <td>330390601G</td>\n",
              "      <td>RJ</td>\n",
              "      <td>Quitandinha - Geo</td>\n",
              "      <td>-43.223916</td>\n",
              "      <td>-22.524907</td>\n",
              "      <td>2022-02-01 00:10:00.0</td>\n",
              "      <td>0.0</td>\n",
              "    </tr>\n",
              "    <tr>\n",
              "      <th>1</th>\n",
              "      <td>PETRÓPOLIS</td>\n",
              "      <td>330390601G</td>\n",
              "      <td>RJ</td>\n",
              "      <td>Quitandinha - Geo</td>\n",
              "      <td>-43.223916</td>\n",
              "      <td>-22.524907</td>\n",
              "      <td>2022-02-01 01:10:00.0</td>\n",
              "      <td>0.0</td>\n",
              "    </tr>\n",
              "    <tr>\n",
              "      <th>2</th>\n",
              "      <td>PETRÓPOLIS</td>\n",
              "      <td>330390601G</td>\n",
              "      <td>RJ</td>\n",
              "      <td>Quitandinha - Geo</td>\n",
              "      <td>-43.223916</td>\n",
              "      <td>-22.524907</td>\n",
              "      <td>2022-02-01 02:10:00.0</td>\n",
              "      <td>0.0</td>\n",
              "    </tr>\n",
              "    <tr>\n",
              "      <th>3</th>\n",
              "      <td>PETRÓPOLIS</td>\n",
              "      <td>330390601G</td>\n",
              "      <td>RJ</td>\n",
              "      <td>Quitandinha - Geo</td>\n",
              "      <td>-43.223916</td>\n",
              "      <td>-22.524907</td>\n",
              "      <td>2022-02-01 03:10:00.0</td>\n",
              "      <td>0.0</td>\n",
              "    </tr>\n",
              "    <tr>\n",
              "      <th>4</th>\n",
              "      <td>PETRÓPOLIS</td>\n",
              "      <td>330390601G</td>\n",
              "      <td>RJ</td>\n",
              "      <td>Quitandinha - Geo</td>\n",
              "      <td>-43.223916</td>\n",
              "      <td>-22.524907</td>\n",
              "      <td>2022-02-01 04:10:00.0</td>\n",
              "      <td>0.0</td>\n",
              "    </tr>\n",
              "  </tbody>\n",
              "</table>\n",
              "</div>\n",
              "      <button class=\"colab-df-convert\" onclick=\"convertToInteractive('df-4b3bcbd6-b6cf-4c9d-801d-f5c8e7aa668d')\"\n",
              "              title=\"Convert this dataframe to an interactive table.\"\n",
              "              style=\"display:none;\">\n",
              "        \n",
              "  <svg xmlns=\"http://www.w3.org/2000/svg\" height=\"24px\"viewBox=\"0 0 24 24\"\n",
              "       width=\"24px\">\n",
              "    <path d=\"M0 0h24v24H0V0z\" fill=\"none\"/>\n",
              "    <path d=\"M18.56 5.44l.94 2.06.94-2.06 2.06-.94-2.06-.94-.94-2.06-.94 2.06-2.06.94zm-11 1L8.5 8.5l.94-2.06 2.06-.94-2.06-.94L8.5 2.5l-.94 2.06-2.06.94zm10 10l.94 2.06.94-2.06 2.06-.94-2.06-.94-.94-2.06-.94 2.06-2.06.94z\"/><path d=\"M17.41 7.96l-1.37-1.37c-.4-.4-.92-.59-1.43-.59-.52 0-1.04.2-1.43.59L10.3 9.45l-7.72 7.72c-.78.78-.78 2.05 0 2.83L4 21.41c.39.39.9.59 1.41.59.51 0 1.02-.2 1.41-.59l7.78-7.78 2.81-2.81c.8-.78.8-2.07 0-2.86zM5.41 20L4 18.59l7.72-7.72 1.47 1.35L5.41 20z\"/>\n",
              "  </svg>\n",
              "      </button>\n",
              "      \n",
              "  <style>\n",
              "    .colab-df-container {\n",
              "      display:flex;\n",
              "      flex-wrap:wrap;\n",
              "      gap: 12px;\n",
              "    }\n",
              "\n",
              "    .colab-df-convert {\n",
              "      background-color: #E8F0FE;\n",
              "      border: none;\n",
              "      border-radius: 50%;\n",
              "      cursor: pointer;\n",
              "      display: none;\n",
              "      fill: #1967D2;\n",
              "      height: 32px;\n",
              "      padding: 0 0 0 0;\n",
              "      width: 32px;\n",
              "    }\n",
              "\n",
              "    .colab-df-convert:hover {\n",
              "      background-color: #E2EBFA;\n",
              "      box-shadow: 0px 1px 2px rgba(60, 64, 67, 0.3), 0px 1px 3px 1px rgba(60, 64, 67, 0.15);\n",
              "      fill: #174EA6;\n",
              "    }\n",
              "\n",
              "    [theme=dark] .colab-df-convert {\n",
              "      background-color: #3B4455;\n",
              "      fill: #D2E3FC;\n",
              "    }\n",
              "\n",
              "    [theme=dark] .colab-df-convert:hover {\n",
              "      background-color: #434B5C;\n",
              "      box-shadow: 0px 1px 3px 1px rgba(0, 0, 0, 0.15);\n",
              "      filter: drop-shadow(0px 1px 2px rgba(0, 0, 0, 0.3));\n",
              "      fill: #FFFFFF;\n",
              "    }\n",
              "  </style>\n",
              "\n",
              "      <script>\n",
              "        const buttonEl =\n",
              "          document.querySelector('#df-4b3bcbd6-b6cf-4c9d-801d-f5c8e7aa668d button.colab-df-convert');\n",
              "        buttonEl.style.display =\n",
              "          google.colab.kernel.accessAllowed ? 'block' : 'none';\n",
              "\n",
              "        async function convertToInteractive(key) {\n",
              "          const element = document.querySelector('#df-4b3bcbd6-b6cf-4c9d-801d-f5c8e7aa668d');\n",
              "          const dataTable =\n",
              "            await google.colab.kernel.invokeFunction('convertToInteractive',\n",
              "                                                     [key], {});\n",
              "          if (!dataTable) return;\n",
              "\n",
              "          const docLinkHtml = 'Like what you see? Visit the ' +\n",
              "            '<a target=\"_blank\" href=https://colab.research.google.com/notebooks/data_table.ipynb>data table notebook</a>'\n",
              "            + ' to learn more about interactive tables.';\n",
              "          element.innerHTML = '';\n",
              "          dataTable['output_type'] = 'display_data';\n",
              "          await google.colab.output.renderOutput(dataTable, element);\n",
              "          const docLink = document.createElement('div');\n",
              "          docLink.innerHTML = docLinkHtml;\n",
              "          element.appendChild(docLink);\n",
              "        }\n",
              "      </script>\n",
              "    </div>\n",
              "  </div>\n",
              "  "
            ]
          },
          "metadata": {},
          "execution_count": 8
        }
      ]
    },
    {
      "cell_type": "code",
      "source": [
        "df_lstm.drop([\"latitude\", \"longitude\"], axis = 1, inplace = True)"
      ],
      "metadata": {
        "id": "lij7usEUqDcx"
      },
      "execution_count": null,
      "outputs": []
    },
    {
      "cell_type": "code",
      "source": [
        "df_lstm.head()"
      ],
      "metadata": {
        "colab": {
          "base_uri": "https://localhost:8080/",
          "height": 206
        },
        "id": "7vEA0JknqOs4",
        "outputId": "07fdcb09-c68a-4d51-c99d-180c0e5ea627"
      },
      "execution_count": null,
      "outputs": [
        {
          "output_type": "execute_result",
          "data": {
            "text/plain": [
              "    municipio  codEstacao  uf        nomeEstacao               datahora  \\\n",
              "0  PETRÓPOLIS  330390601G  RJ  Quitandinha - Geo  2022-02-01 00:10:00.0   \n",
              "1  PETRÓPOLIS  330390601G  RJ  Quitandinha - Geo  2022-02-01 01:10:00.0   \n",
              "2  PETRÓPOLIS  330390601G  RJ  Quitandinha - Geo  2022-02-01 02:10:00.0   \n",
              "3  PETRÓPOLIS  330390601G  RJ  Quitandinha - Geo  2022-02-01 03:10:00.0   \n",
              "4  PETRÓPOLIS  330390601G  RJ  Quitandinha - Geo  2022-02-01 04:10:00.0   \n",
              "\n",
              "   valorMedida  \n",
              "0          0.0  \n",
              "1          0.0  \n",
              "2          0.0  \n",
              "3          0.0  \n",
              "4          0.0  "
            ],
            "text/html": [
              "\n",
              "  <div id=\"df-5e4f0c3b-4018-4785-a1d5-98da1fb00467\">\n",
              "    <div class=\"colab-df-container\">\n",
              "      <div>\n",
              "<style scoped>\n",
              "    .dataframe tbody tr th:only-of-type {\n",
              "        vertical-align: middle;\n",
              "    }\n",
              "\n",
              "    .dataframe tbody tr th {\n",
              "        vertical-align: top;\n",
              "    }\n",
              "\n",
              "    .dataframe thead th {\n",
              "        text-align: right;\n",
              "    }\n",
              "</style>\n",
              "<table border=\"1\" class=\"dataframe\">\n",
              "  <thead>\n",
              "    <tr style=\"text-align: right;\">\n",
              "      <th></th>\n",
              "      <th>municipio</th>\n",
              "      <th>codEstacao</th>\n",
              "      <th>uf</th>\n",
              "      <th>nomeEstacao</th>\n",
              "      <th>datahora</th>\n",
              "      <th>valorMedida</th>\n",
              "    </tr>\n",
              "  </thead>\n",
              "  <tbody>\n",
              "    <tr>\n",
              "      <th>0</th>\n",
              "      <td>PETRÓPOLIS</td>\n",
              "      <td>330390601G</td>\n",
              "      <td>RJ</td>\n",
              "      <td>Quitandinha - Geo</td>\n",
              "      <td>2022-02-01 00:10:00.0</td>\n",
              "      <td>0.0</td>\n",
              "    </tr>\n",
              "    <tr>\n",
              "      <th>1</th>\n",
              "      <td>PETRÓPOLIS</td>\n",
              "      <td>330390601G</td>\n",
              "      <td>RJ</td>\n",
              "      <td>Quitandinha - Geo</td>\n",
              "      <td>2022-02-01 01:10:00.0</td>\n",
              "      <td>0.0</td>\n",
              "    </tr>\n",
              "    <tr>\n",
              "      <th>2</th>\n",
              "      <td>PETRÓPOLIS</td>\n",
              "      <td>330390601G</td>\n",
              "      <td>RJ</td>\n",
              "      <td>Quitandinha - Geo</td>\n",
              "      <td>2022-02-01 02:10:00.0</td>\n",
              "      <td>0.0</td>\n",
              "    </tr>\n",
              "    <tr>\n",
              "      <th>3</th>\n",
              "      <td>PETRÓPOLIS</td>\n",
              "      <td>330390601G</td>\n",
              "      <td>RJ</td>\n",
              "      <td>Quitandinha - Geo</td>\n",
              "      <td>2022-02-01 03:10:00.0</td>\n",
              "      <td>0.0</td>\n",
              "    </tr>\n",
              "    <tr>\n",
              "      <th>4</th>\n",
              "      <td>PETRÓPOLIS</td>\n",
              "      <td>330390601G</td>\n",
              "      <td>RJ</td>\n",
              "      <td>Quitandinha - Geo</td>\n",
              "      <td>2022-02-01 04:10:00.0</td>\n",
              "      <td>0.0</td>\n",
              "    </tr>\n",
              "  </tbody>\n",
              "</table>\n",
              "</div>\n",
              "      <button class=\"colab-df-convert\" onclick=\"convertToInteractive('df-5e4f0c3b-4018-4785-a1d5-98da1fb00467')\"\n",
              "              title=\"Convert this dataframe to an interactive table.\"\n",
              "              style=\"display:none;\">\n",
              "        \n",
              "  <svg xmlns=\"http://www.w3.org/2000/svg\" height=\"24px\"viewBox=\"0 0 24 24\"\n",
              "       width=\"24px\">\n",
              "    <path d=\"M0 0h24v24H0V0z\" fill=\"none\"/>\n",
              "    <path d=\"M18.56 5.44l.94 2.06.94-2.06 2.06-.94-2.06-.94-.94-2.06-.94 2.06-2.06.94zm-11 1L8.5 8.5l.94-2.06 2.06-.94-2.06-.94L8.5 2.5l-.94 2.06-2.06.94zm10 10l.94 2.06.94-2.06 2.06-.94-2.06-.94-.94-2.06-.94 2.06-2.06.94z\"/><path d=\"M17.41 7.96l-1.37-1.37c-.4-.4-.92-.59-1.43-.59-.52 0-1.04.2-1.43.59L10.3 9.45l-7.72 7.72c-.78.78-.78 2.05 0 2.83L4 21.41c.39.39.9.59 1.41.59.51 0 1.02-.2 1.41-.59l7.78-7.78 2.81-2.81c.8-.78.8-2.07 0-2.86zM5.41 20L4 18.59l7.72-7.72 1.47 1.35L5.41 20z\"/>\n",
              "  </svg>\n",
              "      </button>\n",
              "      \n",
              "  <style>\n",
              "    .colab-df-container {\n",
              "      display:flex;\n",
              "      flex-wrap:wrap;\n",
              "      gap: 12px;\n",
              "    }\n",
              "\n",
              "    .colab-df-convert {\n",
              "      background-color: #E8F0FE;\n",
              "      border: none;\n",
              "      border-radius: 50%;\n",
              "      cursor: pointer;\n",
              "      display: none;\n",
              "      fill: #1967D2;\n",
              "      height: 32px;\n",
              "      padding: 0 0 0 0;\n",
              "      width: 32px;\n",
              "    }\n",
              "\n",
              "    .colab-df-convert:hover {\n",
              "      background-color: #E2EBFA;\n",
              "      box-shadow: 0px 1px 2px rgba(60, 64, 67, 0.3), 0px 1px 3px 1px rgba(60, 64, 67, 0.15);\n",
              "      fill: #174EA6;\n",
              "    }\n",
              "\n",
              "    [theme=dark] .colab-df-convert {\n",
              "      background-color: #3B4455;\n",
              "      fill: #D2E3FC;\n",
              "    }\n",
              "\n",
              "    [theme=dark] .colab-df-convert:hover {\n",
              "      background-color: #434B5C;\n",
              "      box-shadow: 0px 1px 3px 1px rgba(0, 0, 0, 0.15);\n",
              "      filter: drop-shadow(0px 1px 2px rgba(0, 0, 0, 0.3));\n",
              "      fill: #FFFFFF;\n",
              "    }\n",
              "  </style>\n",
              "\n",
              "      <script>\n",
              "        const buttonEl =\n",
              "          document.querySelector('#df-5e4f0c3b-4018-4785-a1d5-98da1fb00467 button.colab-df-convert');\n",
              "        buttonEl.style.display =\n",
              "          google.colab.kernel.accessAllowed ? 'block' : 'none';\n",
              "\n",
              "        async function convertToInteractive(key) {\n",
              "          const element = document.querySelector('#df-5e4f0c3b-4018-4785-a1d5-98da1fb00467');\n",
              "          const dataTable =\n",
              "            await google.colab.kernel.invokeFunction('convertToInteractive',\n",
              "                                                     [key], {});\n",
              "          if (!dataTable) return;\n",
              "\n",
              "          const docLinkHtml = 'Like what you see? Visit the ' +\n",
              "            '<a target=\"_blank\" href=https://colab.research.google.com/notebooks/data_table.ipynb>data table notebook</a>'\n",
              "            + ' to learn more about interactive tables.';\n",
              "          element.innerHTML = '';\n",
              "          dataTable['output_type'] = 'display_data';\n",
              "          await google.colab.output.renderOutput(dataTable, element);\n",
              "          const docLink = document.createElement('div');\n",
              "          docLink.innerHTML = docLinkHtml;\n",
              "          element.appendChild(docLink);\n",
              "        }\n",
              "      </script>\n",
              "    </div>\n",
              "  </div>\n",
              "  "
            ]
          },
          "metadata": {},
          "execution_count": 10
        }
      ]
    },
    {
      "cell_type": "code",
      "source": [
        "df_lstm[\"nomeEstacao\"].count"
      ],
      "metadata": {
        "colab": {
          "base_uri": "https://localhost:8080/"
        },
        "id": "1jrlUo7Zgjdj",
        "outputId": "8fdf605f-1ece-431d-8495-c53a224a891b"
      },
      "execution_count": null,
      "outputs": [
        {
          "output_type": "execute_result",
          "data": {
            "text/plain": [
              "<bound method Series.count of 0        Quitandinha - Geo\n",
              "1        Quitandinha - Geo\n",
              "2        Quitandinha - Geo\n",
              "3        Quitandinha - Geo\n",
              "4        Quitandinha - Geo\n",
              "               ...        \n",
              "12989            Vila Rica\n",
              "12990            Vila Rica\n",
              "12991            Vila Rica\n",
              "12992            Vila Rica\n",
              "12993            Vila Rica\n",
              "Name: nomeEstacao, Length: 12994, dtype: object>"
            ]
          },
          "metadata": {},
          "execution_count": 11
        }
      ]
    },
    {
      "cell_type": "code",
      "source": [
        "temp_pattern = 10 #quantas medidas passadas serão usadas para prever as medidas para frente\n",
        "NumeroDeModelos = 1 #atributos utilizados"
      ],
      "metadata": {
        "id": "qffGbykFzPuP"
      },
      "execution_count": null,
      "outputs": []
    },
    {
      "cell_type": "code",
      "source": [
        "#fizemos este para eliminar os 10 primeiros passos de cada estação\n",
        "def ajustarTensor(x,temp_pattern):\n",
        "  listaX = []\n",
        "  listaY = []\n",
        "  for i in range(x.shape[0] - temp_pattern):\n",
        "    listaX.append(x[i:(i+temp_pattern)])\n",
        "    listaY.append(x[i+temp_pattern])\n",
        "  for i in range(len(listaX)):\n",
        "    listaX[i] = (np.expand_dims(listaX[i], axis=0))\n",
        "  return listaX, listaY"
      ],
      "metadata": {
        "id": "nRdr6EE4ftkh"
      },
      "execution_count": null,
      "outputs": []
    },
    {
      "cell_type": "code",
      "source": [
        "#garantir que fique ordenado e estao medindo a mesma estação sempre\n",
        "X = []\n",
        "Y = []\n",
        "\n",
        "for i in df_lstm[\"nomeEstacao\"].unique():\n",
        "  x = df_lstm[df_lstm['nomeEstacao']==i]['valorMedida'].values\n",
        "  listaX, listaY = ajustarTensor(x,temp_pattern)\n",
        "  X.append(listaX)\n",
        "  Y.append(listaY)"
      ],
      "metadata": {
        "id": "wpEAY-Nag0Ht"
      },
      "execution_count": null,
      "outputs": []
    },
    {
      "cell_type": "code",
      "source": [
        "X[0][0].shape"
      ],
      "metadata": {
        "colab": {
          "base_uri": "https://localhost:8080/"
        },
        "id": "LkbZ76fZiQs9",
        "outputId": "be7bfede-d4ab-4d8e-bec2-300c156c84f5"
      },
      "execution_count": null,
      "outputs": [
        {
          "output_type": "execute_result",
          "data": {
            "text/plain": [
              "(1, 10)"
            ]
          },
          "metadata": {},
          "execution_count": 15
        }
      ]
    },
    {
      "cell_type": "code",
      "source": [
        "#transforma a lista de listas em uma unica lista de arrays no X\n",
        "for i in range(len(X)):\n",
        "  X[i] = np.concatenate(X[i],axis=0)"
      ],
      "metadata": {
        "id": "yEn3ZId3i6_D"
      },
      "execution_count": null,
      "outputs": []
    },
    {
      "cell_type": "code",
      "source": [
        "#transforma a lista de listas em uma unica lista de arrays no X\n",
        "for i in range(len(Y)):\n",
        "  Y[i] = np.array(Y[i])"
      ],
      "metadata": {
        "id": "HokRKrbljVle"
      },
      "execution_count": null,
      "outputs": []
    },
    {
      "cell_type": "code",
      "source": [
        "#colapsar a lista de arrays em um único array em X\n",
        "X = np.concatenate(X)"
      ],
      "metadata": {
        "id": "qiqfkyuyj4fS"
      },
      "execution_count": null,
      "outputs": []
    },
    {
      "cell_type": "code",
      "source": [
        "#colapsar a lista de arrays em um único array em X\n",
        "Y = np.concatenate(Y)"
      ],
      "metadata": {
        "id": "6chE63J1j-Je"
      },
      "execution_count": null,
      "outputs": []
    },
    {
      "cell_type": "code",
      "source": [
        "np.array(listaY).shape"
      ],
      "metadata": {
        "colab": {
          "base_uri": "https://localhost:8080/"
        },
        "id": "c6IYGcPsWjcb",
        "outputId": "d55bb5a9-7139-46da-a20f-1ea9d51fb682"
      },
      "execution_count": null,
      "outputs": [
        {
          "output_type": "execute_result",
          "data": {
            "text/plain": [
              "(619,)"
            ]
          },
          "metadata": {},
          "execution_count": 20
        }
      ]
    },
    {
      "cell_type": "code",
      "source": [
        "X.shape"
      ],
      "metadata": {
        "colab": {
          "base_uri": "https://localhost:8080/"
        },
        "id": "ngCseYRJkgWn",
        "outputId": "35d115bc-a8b7-43b0-d76a-8c4f67e1435c"
      },
      "execution_count": null,
      "outputs": [
        {
          "output_type": "execute_result",
          "data": {
            "text/plain": [
              "(12784, 10)"
            ]
          },
          "metadata": {},
          "execution_count": 21
        }
      ]
    },
    {
      "cell_type": "code",
      "source": [
        "df_tabular.shape"
      ],
      "metadata": {
        "colab": {
          "base_uri": "https://localhost:8080/"
        },
        "id": "KA3LtCZqdHNo",
        "outputId": "a859f647-68ac-42a5-9067-3ed3cb1eaea2"
      },
      "execution_count": null,
      "outputs": [
        {
          "output_type": "execute_result",
          "data": {
            "text/plain": [
              "(12994, 2)"
            ]
          },
          "metadata": {},
          "execution_count": 22
        }
      ]
    },
    {
      "cell_type": "code",
      "source": [
        "df_unico = df_tabular[[\"latitude\", \"longitude\"]].drop_duplicates()"
      ],
      "metadata": {
        "id": "xFh7zMhwpKIh"
      },
      "execution_count": null,
      "outputs": []
    },
    {
      "cell_type": "code",
      "source": [
        "df_unico = df_unico.values"
      ],
      "metadata": {
        "id": "smkQI9hIqH4S"
      },
      "execution_count": null,
      "outputs": []
    },
    {
      "cell_type": "code",
      "source": [
        "df_unico.shape"
      ],
      "metadata": {
        "colab": {
          "base_uri": "https://localhost:8080/"
        },
        "id": "9ZRX8oX_qPr3",
        "outputId": "7b58eb40-9fc4-4017-f404-dbf8d8d7ac56"
      },
      "execution_count": null,
      "outputs": [
        {
          "output_type": "execute_result",
          "data": {
            "text/plain": [
              "(21, 2)"
            ]
          },
          "metadata": {},
          "execution_count": 25
        }
      ]
    },
    {
      "cell_type": "code",
      "source": [
        "#garantir q a informação bate com o dataset (tabular)\n",
        "lista_filtro = []\n",
        "\n",
        "for i in range(df_unico.shape[0]):\n",
        "  filtro = df_tabular[np.logical_and(df_tabular[\"latitude\"]== df_unico[i,0], df_tabular[\"longitude\"]== df_unico[i,1] )]\n",
        "  tabela,_ = ajustarTensor(filtro.values,temp_pattern)\n",
        "  lista_filtro.append(tabela)"
      ],
      "metadata": {
        "id": "o8e3SqmuqVL2"
      },
      "execution_count": null,
      "outputs": []
    },
    {
      "cell_type": "code",
      "source": [
        "lista_filtro[0][0].shape"
      ],
      "metadata": {
        "colab": {
          "base_uri": "https://localhost:8080/"
        },
        "id": "WFZu0FWUsIp2",
        "outputId": "a6b99ef2-5a13-489f-8c8b-70313c36c7b2"
      },
      "execution_count": null,
      "outputs": [
        {
          "output_type": "execute_result",
          "data": {
            "text/plain": [
              "(1, 10, 2)"
            ]
          },
          "metadata": {},
          "execution_count": 27
        }
      ]
    },
    {
      "cell_type": "code",
      "source": [
        "for i in range(len(lista_filtro)):\n",
        "  lista_filtro[i] = np.concatenate(lista_filtro[i],axis=0)"
      ],
      "metadata": {
        "id": "CX1D0scYsVyz"
      },
      "execution_count": null,
      "outputs": []
    },
    {
      "cell_type": "code",
      "source": [
        "lista_filtro = np.concatenate(lista_filtro, axis=0)"
      ],
      "metadata": {
        "id": "WSE0LJ4isaxR"
      },
      "execution_count": null,
      "outputs": []
    },
    {
      "cell_type": "code",
      "source": [
        "lista_filtro.shape"
      ],
      "metadata": {
        "colab": {
          "base_uri": "https://localhost:8080/"
        },
        "id": "XmR__1k-uEov",
        "outputId": "3303b97c-4601-42ab-9955-bb08ef794996"
      },
      "execution_count": null,
      "outputs": [
        {
          "output_type": "execute_result",
          "data": {
            "text/plain": [
              "(12784, 10, 2)"
            ]
          },
          "metadata": {},
          "execution_count": 30
        }
      ]
    },
    {
      "cell_type": "code",
      "source": [
        "lista_filtro = lista_filtro[:,-1,:]"
      ],
      "metadata": {
        "id": "7jk-iXxSuJQ6"
      },
      "execution_count": null,
      "outputs": []
    },
    {
      "cell_type": "code",
      "source": [
        "X.shape"
      ],
      "metadata": {
        "colab": {
          "base_uri": "https://localhost:8080/"
        },
        "id": "8Gs4z6m_tGCF",
        "outputId": "da96fa51-5c5d-4095-d9dc-df63fa7e1f9e"
      },
      "execution_count": null,
      "outputs": [
        {
          "output_type": "execute_result",
          "data": {
            "text/plain": [
              "(12784, 10)"
            ]
          },
          "metadata": {},
          "execution_count": 32
        }
      ]
    },
    {
      "cell_type": "code",
      "source": [
        "X = np.expand_dims(X, axis=-1)"
      ],
      "metadata": {
        "id": "ykxiE6tItOHU"
      },
      "execution_count": null,
      "outputs": []
    },
    {
      "cell_type": "code",
      "source": [
        "X_train, X_test, y_train, y_test, tabular_train, tabular_test = train_test_split(X, Y, lista_filtro, train_size=0.8)"
      ],
      "metadata": {
        "id": "nXjBaSDGUity"
      },
      "execution_count": null,
      "outputs": []
    },
    {
      "cell_type": "code",
      "source": [
        "lstm_input=Input(shape=X_train.shape[1:]) \n",
        "from keras.layers import LSTM, Dense\n",
        "Camada_l=LSTM(20,return_sequences=True)(lstm_input)\n",
        "Camada_l=LSTM(10)(Camada_l)"
      ],
      "metadata": {
        "id": "Tg08odCAzyo-"
      },
      "execution_count": null,
      "outputs": []
    },
    {
      "cell_type": "code",
      "source": [
        "Modelo_l = Model(lstm_input,Camada_l)"
      ],
      "metadata": {
        "id": "nmKXb9CPnHtd"
      },
      "execution_count": null,
      "outputs": []
    },
    {
      "cell_type": "code",
      "source": [
        "Modelo_l.summary()"
      ],
      "metadata": {
        "colab": {
          "base_uri": "https://localhost:8080/"
        },
        "id": "iUf3HHmKnJwE",
        "outputId": "72b50948-0115-4368-8d2a-606fb207820d"
      },
      "execution_count": null,
      "outputs": [
        {
          "output_type": "stream",
          "name": "stdout",
          "text": [
            "Model: \"model\"\n",
            "_________________________________________________________________\n",
            " Layer (type)                Output Shape              Param #   \n",
            "=================================================================\n",
            " input_1 (InputLayer)        [(None, 10, 1)]           0         \n",
            "                                                                 \n",
            " lstm (LSTM)                 (None, 10, 20)            1760      \n",
            "                                                                 \n",
            " lstm_1 (LSTM)               (None, 10)                1240      \n",
            "                                                                 \n",
            "=================================================================\n",
            "Total params: 3,000\n",
            "Trainable params: 3,000\n",
            "Non-trainable params: 0\n",
            "_________________________________________________________________\n"
          ]
        }
      ]
    },
    {
      "cell_type": "code",
      "source": [
        "from keras.callbacks import ModelCheckpoint\n",
        "ch=ModelCheckpoint('Pesos.h5',save_best_only=True)"
      ],
      "metadata": {
        "id": "jP87XZ7_lKkn"
      },
      "execution_count": null,
      "outputs": []
    },
    {
      "cell_type": "code",
      "source": [
        "def RelativeError(y_true,y_pred):\n",
        "  import keras.backend as K\n",
        "  epislon=1e-8\n",
        "  y_true=y_true+epislon\n",
        "  Erro=100*K.mean(K.abs(  (y_true-y_pred)/y_true))\n",
        "  return(Erro)"
      ],
      "metadata": {
        "id": "iGluSgqdlMtK"
      },
      "execution_count": null,
      "outputs": []
    },
    {
      "cell_type": "code",
      "source": [
        "tabular_input=Input(shape=df_tabular.shape[1:])\n",
        "Camada_t=Dense(128)(tabular_input)\n",
        "Camada_t=Flatten()(Camada_t)\n",
        "Camada_t=Dense(64)(Camada_t)"
      ],
      "metadata": {
        "id": "qNjM-qGVyKt8"
      },
      "execution_count": null,
      "outputs": []
    },
    {
      "cell_type": "code",
      "source": [
        "Modelo_t = Model(tabular_input,Camada_t)"
      ],
      "metadata": {
        "id": "K9GuvpI8yf6-"
      },
      "execution_count": null,
      "outputs": []
    },
    {
      "cell_type": "code",
      "source": [
        "Modelo_t.summary()"
      ],
      "metadata": {
        "id": "-Q8hssk5nujQ",
        "colab": {
          "base_uri": "https://localhost:8080/"
        },
        "outputId": "dbe1660a-da31-43dc-ac0d-50b863269bce"
      },
      "execution_count": null,
      "outputs": [
        {
          "output_type": "stream",
          "name": "stdout",
          "text": [
            "Model: \"model_1\"\n",
            "_________________________________________________________________\n",
            " Layer (type)                Output Shape              Param #   \n",
            "=================================================================\n",
            " input_2 (InputLayer)        [(None, 2)]               0         \n",
            "                                                                 \n",
            " dense (Dense)               (None, 128)               384       \n",
            "                                                                 \n",
            " flatten (Flatten)           (None, 128)               0         \n",
            "                                                                 \n",
            " dense_1 (Dense)             (None, 64)                8256      \n",
            "                                                                 \n",
            "=================================================================\n",
            "Total params: 8,640\n",
            "Trainable params: 8,640\n",
            "Non-trainable params: 0\n",
            "_________________________________________________________________\n"
          ]
        }
      ]
    },
    {
      "cell_type": "code",
      "source": [
        "Juncao=Concatenate()([Camada_l,Camada_t])\n",
        "Conjunto=Dense(32,activation='relu')(Juncao)\n",
        "Saida=Dense(1,activation='linear')(Conjunto)"
      ],
      "metadata": {
        "id": "_xpxD0pxyn-2"
      },
      "execution_count": null,
      "outputs": []
    },
    {
      "cell_type": "code",
      "source": [
        "Modelo_Multimodal=Model([lstm_input,tabular_input],[Saida])"
      ],
      "metadata": {
        "id": "5EvxaR-A1eSY"
      },
      "execution_count": null,
      "outputs": []
    },
    {
      "cell_type": "code",
      "source": [
        "plot_model(Modelo_Multimodal,show_shapes=True)"
      ],
      "metadata": {
        "id": "YGalb4cT1lK7",
        "outputId": "62dbc699-e70b-4367-de4f-50392ee054b4",
        "colab": {
          "base_uri": "https://localhost:8080/",
          "height": 754
        }
      },
      "execution_count": null,
      "outputs": [
        {
          "output_type": "execute_result",
          "data": {
            "image/png": "[encoded data removed]",
            "text/plain": [
              "<IPython.core.display.Image object>"
            ]
          },
          "metadata": {},
          "execution_count": 45
        }
      ]
    },
    {
      "cell_type": "code",
      "source": [
        "Modelo_Multimodal.compile(loss='mse',optimizer='adam')"
      ],
      "metadata": {
        "id": "zUu4fllkwnJf"
      },
      "execution_count": null,
      "outputs": []
    },
    {
      "cell_type": "code",
      "source": [
        "X_train = np.array(X_train)\n",
        "tabular_train = np.array(tabular_train)"
      ],
      "metadata": {
        "id": "ncsz_5zjxU5H"
      },
      "execution_count": null,
      "outputs": []
    },
    {
      "cell_type": "code",
      "source": [
        "type(X_train)"
      ],
      "metadata": {
        "colab": {
          "base_uri": "https://localhost:8080/"
        },
        "id": "DQ1d5p3e4Esf",
        "outputId": "134ba895-3003-4433-c787-7842991cdea7"
      },
      "execution_count": null,
      "outputs": [
        {
          "output_type": "execute_result",
          "data": {
            "text/plain": [
              "numpy.ndarray"
            ]
          },
          "metadata": {},
          "execution_count": 48
        }
      ]
    },
    {
      "cell_type": "code",
      "source": [
        "type(tabular_train)"
      ],
      "metadata": {
        "colab": {
          "base_uri": "https://localhost:8080/"
        },
        "id": "6C8Ey9eI4Gpq",
        "outputId": "3113d584-698d-47a2-9d0b-99fb0bd5fca7"
      },
      "execution_count": null,
      "outputs": [
        {
          "output_type": "execute_result",
          "data": {
            "text/plain": [
              "numpy.ndarray"
            ]
          },
          "metadata": {},
          "execution_count": 49
        }
      ]
    },
    {
      "cell_type": "code",
      "source": [
        "y_train.shape"
      ],
      "metadata": {
        "colab": {
          "base_uri": "https://localhost:8080/"
        },
        "id": "m86zwB32Idj2",
        "outputId": "cd980001-e9cb-4b05-f885-2d223545266b"
      },
      "execution_count": null,
      "outputs": [
        {
          "output_type": "execute_result",
          "data": {
            "text/plain": [
              "(10227,)"
            ]
          },
          "metadata": {},
          "execution_count": 50
        }
      ]
    },
    {
      "cell_type": "code",
      "source": [
        "X_train.shape"
      ],
      "metadata": {
        "colab": {
          "base_uri": "https://localhost:8080/"
        },
        "id": "oMRPbdhAItQY",
        "outputId": "6cb816a0-fc03-44be-c328-eb93ce741014"
      },
      "execution_count": null,
      "outputs": [
        {
          "output_type": "execute_result",
          "data": {
            "text/plain": [
              "(10227, 10, 1)"
            ]
          },
          "metadata": {},
          "execution_count": 51
        }
      ]
    },
    {
      "cell_type": "code",
      "source": [
        "#lista_lstm = list(X_train.shape[1:])\n",
        "#X_train = np.array(lista_lstm)\n",
        "#tabular_train = np.array(tabular_train)"
      ],
      "metadata": {
        "id": "b_iw54AL3pws"
      },
      "execution_count": null,
      "outputs": []
    },
    {
      "cell_type": "code",
      "source": [
        "Modelo_Multimodal.fit([X_train,tabular_train],y_train,epochs=1,verbose=1,validation_split=0.3,callbacks=[ch])"
      ],
      "metadata": {
        "id": "gvHReVJa1pLr",
        "outputId": "cc0b738c-12de-40ca-da83-9c6e28b1ec62",
        "colab": {
          "base_uri": "https://localhost:8080/"
        }
      },
      "execution_count": null,
      "outputs": [
        {
          "output_type": "stream",
          "name": "stdout",
          "text": [
            "224/224 [==============================] - 16s 26ms/step - loss: 2.2956 - val_loss: 1.5577\n"
          ]
        },
        {
          "output_type": "execute_result",
          "data": {
            "text/plain": [
              "<keras.callbacks.History at 0x7fd15fe31990>"
            ]
          },
          "metadata": {},
          "execution_count": 53
        }
      ]
    },
    {
      "cell_type": "code",
      "source": [
        "df_tabular[0:1]"
      ],
      "metadata": {
        "colab": {
          "base_uri": "https://localhost:8080/",
          "height": 81
        },
        "id": "VilE0i7UM2xP",
        "outputId": "a6c04abf-77da-4c70-e1e6-127c7d8aca34"
      },
      "execution_count": null,
      "outputs": [
        {
          "output_type": "execute_result",
          "data": {
            "text/plain": [
              "   Latitude  Longitude\n",
              "0 -22.54317 -43.266418"
            ],
            "text/html": [
              "\n",
              "  <div id=\"df-ac45cc05-42e4-4990-8bb9-2db782d6bb21\">\n",
              "    <div class=\"colab-df-container\">\n",
              "      <div>\n",
              "<style scoped>\n",
              "    .dataframe tbody tr th:only-of-type {\n",
              "        vertical-align: middle;\n",
              "    }\n",
              "\n",
              "    .dataframe tbody tr th {\n",
              "        vertical-align: top;\n",
              "    }\n",
              "\n",
              "    .dataframe thead th {\n",
              "        text-align: right;\n",
              "    }\n",
              "</style>\n",
              "<table border=\"1\" class=\"dataframe\">\n",
              "  <thead>\n",
              "    <tr style=\"text-align: right;\">\n",
              "      <th></th>\n",
              "      <th>Latitude</th>\n",
              "      <th>Longitude</th>\n",
              "    </tr>\n",
              "  </thead>\n",
              "  <tbody>\n",
              "    <tr>\n",
              "      <th>0</th>\n",
              "      <td>-22.54317</td>\n",
              "      <td>-43.266418</td>\n",
              "    </tr>\n",
              "  </tbody>\n",
              "</table>\n",
              "</div>\n",
              "      <button class=\"colab-df-convert\" onclick=\"convertToInteractive('df-ac45cc05-42e4-4990-8bb9-2db782d6bb21')\"\n",
              "              title=\"Convert this dataframe to an interactive table.\"\n",
              "              style=\"display:none;\">\n",
              "        \n",
              "  <svg xmlns=\"http://www.w3.org/2000/svg\" height=\"24px\"viewBox=\"0 0 24 24\"\n",
              "       width=\"24px\">\n",
              "    <path d=\"M0 0h24v24H0V0z\" fill=\"none\"/>\n",
              "    <path d=\"M18.56 5.44l.94 2.06.94-2.06 2.06-.94-2.06-.94-.94-2.06-.94 2.06-2.06.94zm-11 1L8.5 8.5l.94-2.06 2.06-.94-2.06-.94L8.5 2.5l-.94 2.06-2.06.94zm10 10l.94 2.06.94-2.06 2.06-.94-2.06-.94-.94-2.06-.94 2.06-2.06.94z\"/><path d=\"M17.41 7.96l-1.37-1.37c-.4-.4-.92-.59-1.43-.59-.52 0-1.04.2-1.43.59L10.3 9.45l-7.72 7.72c-.78.78-.78 2.05 0 2.83L4 21.41c.39.39.9.59 1.41.59.51 0 1.02-.2 1.41-.59l7.78-7.78 2.81-2.81c.8-.78.8-2.07 0-2.86zM5.41 20L4 18.59l7.72-7.72 1.47 1.35L5.41 20z\"/>\n",
              "  </svg>\n",
              "      </button>\n",
              "      \n",
              "  <style>\n",
              "    .colab-df-container {\n",
              "      display:flex;\n",
              "      flex-wrap:wrap;\n",
              "      gap: 12px;\n",
              "    }\n",
              "\n",
              "    .colab-df-convert {\n",
              "      background-color: #E8F0FE;\n",
              "      border: none;\n",
              "      border-radius: 50%;\n",
              "      cursor: pointer;\n",
              "      display: none;\n",
              "      fill: #1967D2;\n",
              "      height: 32px;\n",
              "      padding: 0 0 0 0;\n",
              "      width: 32px;\n",
              "    }\n",
              "\n",
              "    .colab-df-convert:hover {\n",
              "      background-color: #E2EBFA;\n",
              "      box-shadow: 0px 1px 2px rgba(60, 64, 67, 0.3), 0px 1px 3px 1px rgba(60, 64, 67, 0.15);\n",
              "      fill: #174EA6;\n",
              "    }\n",
              "\n",
              "    [theme=dark] .colab-df-convert {\n",
              "      background-color: #3B4455;\n",
              "      fill: #D2E3FC;\n",
              "    }\n",
              "\n",
              "    [theme=dark] .colab-df-convert:hover {\n",
              "      background-color: #434B5C;\n",
              "      box-shadow: 0px 1px 3px 1px rgba(0, 0, 0, 0.15);\n",
              "      filter: drop-shadow(0px 1px 2px rgba(0, 0, 0, 0.3));\n",
              "      fill: #FFFFFF;\n",
              "    }\n",
              "  </style>\n",
              "\n",
              "      <script>\n",
              "        const buttonEl =\n",
              "          document.querySelector('#df-ac45cc05-42e4-4990-8bb9-2db782d6bb21 button.colab-df-convert');\n",
              "        buttonEl.style.display =\n",
              "          google.colab.kernel.accessAllowed ? 'block' : 'none';\n",
              "\n",
              "        async function convertToInteractive(key) {\n",
              "          const element = document.querySelector('#df-ac45cc05-42e4-4990-8bb9-2db782d6bb21');\n",
              "          const dataTable =\n",
              "            await google.colab.kernel.invokeFunction('convertToInteractive',\n",
              "                                                     [key], {});\n",
              "          if (!dataTable) return;\n",
              "\n",
              "          const docLinkHtml = 'Like what you see? Visit the ' +\n",
              "            '<a target=\"_blank\" href=https://colab.research.google.com/notebooks/data_table.ipynb>data table notebook</a>'\n",
              "            + ' to learn more about interactive tables.';\n",
              "          element.innerHTML = '';\n",
              "          dataTable['output_type'] = 'display_data';\n",
              "          await google.colab.output.renderOutput(dataTable, element);\n",
              "          const docLink = document.createElement('div');\n",
              "          docLink.innerHTML = docLinkHtml;\n",
              "          element.appendChild(docLink);\n",
              "        }\n",
              "      </script>\n",
              "    </div>\n",
              "  </div>\n",
              "  "
            ]
          },
          "metadata": {},
          "execution_count": 106
        }
      ]
    },
    {
      "cell_type": "code",
      "source": [
        "x = df_tabular[[\"Latitude\", \"Longitude\"]].values"
      ],
      "metadata": {
        "id": "ydRkQcsRNz86"
      },
      "execution_count": null,
      "outputs": []
    },
    {
      "cell_type": "code",
      "source": [
        "x"
      ],
      "metadata": {
        "colab": {
          "base_uri": "https://localhost:8080/"
        },
        "id": "7P-gI4gnPvBZ",
        "outputId": "177a6b5f-77d2-45a5-9be6-56b5d9cf8bec"
      },
      "execution_count": null,
      "outputs": [
        {
          "output_type": "execute_result",
          "data": {
            "text/plain": [
              "array([[-22.54317041, -43.26641772],\n",
              "       [-22.54317041, -43.2664635 ],\n",
              "       [-22.54317041, -43.26650927],\n",
              "       ...,\n",
              "       [-22.54378697, -43.26696703],\n",
              "       [-22.54378697, -43.26701281],\n",
              "       [-22.54378697, -43.26705859]])"
            ]
          },
          "metadata": {},
          "execution_count": 151
        }
      ]
    },
    {
      "cell_type": "code",
      "source": [
        "#df_lstm[['datahora']] == '2022-02-01 00:10:00.0'\n",
        "y = df_lstm[df_lstm['datahora']=='2022-02-01 00:10:00.0']['valorMedida'].values\n",
        "y"
      ],
      "metadata": {
        "colab": {
          "base_uri": "https://localhost:8080/"
        },
        "id": "eA6-DuzzL6B8",
        "outputId": "3b0ebbf7-a570-4980-9bd6-1b80b476bcae"
      },
      "execution_count": null,
      "outputs": [
        {
          "output_type": "execute_result",
          "data": {
            "text/plain": [
              "array([0., 0., 0., 0., 0.])"
            ]
          },
          "metadata": {},
          "execution_count": 161
        }
      ]
    },
    {
      "cell_type": "markdown",
      "source": [
        "primeiro instante d tempo (lstm), no primeiro valor unico (tabular)"
      ],
      "metadata": {
        "id": "yAAkP3k6wIsG"
      }
    },
    {
      "cell_type": "code",
      "source": [
        "amostra = X_train[100:101] #(mesmo indice referente)\n",
        "amostra"
      ],
      "metadata": {
        "id": "DJozm_UhwEjA",
        "colab": {
          "base_uri": "https://localhost:8080/",
          "height": 190
        },
        "outputId": "f94dca3c-4174-4b89-f3da-a5d4a2ff5617"
      },
      "execution_count": null,
      "outputs": [
        {
          "output_type": "error",
          "ename": "IndexError",
          "evalue": "ignored",
          "traceback": [
            "\u001b[0;31m---------------------------------------------------------------------------\u001b[0m",
            "\u001b[0;31mIndexError\u001b[0m                                Traceback (most recent call last)",
            "\u001b[0;32m<ipython-input-159-f813ca995d68>\u001b[0m in \u001b[0;36m<module>\u001b[0;34m\u001b[0m\n\u001b[0;32m----> 1\u001b[0;31m \u001b[0mamostra\u001b[0m \u001b[0;34m=\u001b[0m \u001b[0mX_train\u001b[0m\u001b[0;34m[\u001b[0m\u001b[0my\u001b[0m\u001b[0;34m]\u001b[0m \u001b[0;31m#(mesmo indice referente)\u001b[0m\u001b[0;34m\u001b[0m\u001b[0;34m\u001b[0m\u001b[0m\n\u001b[0m\u001b[1;32m      2\u001b[0m \u001b[0mamostra\u001b[0m\u001b[0;34m\u001b[0m\u001b[0;34m\u001b[0m\u001b[0m\n",
            "\u001b[0;31mIndexError\u001b[0m: arrays used as indices must be of integer (or boolean) type"
          ]
        }
      ]
    },
    {
      "cell_type": "code",
      "source": [
        "amostra_tabular = tabular_train[1:1] #(mesmo indice referente)\n",
        "amostra_tabular"
      ],
      "metadata": {
        "id": "Qnnd9aR3wS85",
        "colab": {
          "base_uri": "https://localhost:8080/"
        },
        "outputId": "0bd3e3f8-8a75-4710-bcb5-e17460fd959c"
      },
      "execution_count": null,
      "outputs": [
        {
          "output_type": "execute_result",
          "data": {
            "text/plain": [
              "array([], shape=(0, 2), dtype=float64)"
            ]
          },
          "metadata": {},
          "execution_count": 143
        }
      ]
    },
    {
      "cell_type": "code",
      "source": [
        "#\n",
        "lista_prev = []\n",
        "\n",
        "for i in range(0, 10):\n",
        "  aux = amostra_tabular\n",
        "  aux[:,0] = aux[:,0] + i\n",
        "  aux[:,1] = aux[:,1] + i\n",
        "  previsao = Modelo_Multimodal.predict([amostra, aux])#aux tem UM par lat long\n",
        "  lista_prev.append(previsao)"
      ],
      "metadata": {
        "id": "8A0AgeslwYoD"
      },
      "execution_count": null,
      "outputs": []
    },
    {
      "cell_type": "code",
      "source": [
        "import matplotlib.pyplot as plt"
      ],
      "metadata": {
        "id": "q4--VWeEwhc3"
      },
      "execution_count": null,
      "outputs": []
    },
    {
      "cell_type": "code",
      "source": [
        "lista_prev"
      ],
      "metadata": {
        "id": "_G7vhATrxUd9",
        "colab": {
          "base_uri": "https://localhost:8080/"
        },
        "outputId": "0c27a672-5b4d-44b2-e7a0-3034b1be8958"
      },
      "execution_count": null,
      "outputs": [
        {
          "output_type": "execute_result",
          "data": {
            "text/plain": [
              "[array([[-0.10778461]], dtype=float32),\n",
              " array([[-0.08388083]], dtype=float32),\n",
              " array([[-0.03607888]], dtype=float32),\n",
              " array([[0.03562368]], dtype=float32),\n",
              " array([[0.1312289]], dtype=float32),\n",
              " array([[0.25073385]], dtype=float32),\n",
              " array([[0.3459597]], dtype=float32),\n",
              " array([[0.23762706]], dtype=float32),\n",
              " array([[-2.0645502]], dtype=float32),\n",
              " array([[-4.870545]], dtype=float32)]"
            ]
          },
          "metadata": {},
          "execution_count": 58
        }
      ]
    },
    {
      "cell_type": "code",
      "execution_count": null,
      "metadata": {
        "id": "0U2VrC-jIUAR"
      },
      "outputs": [],
      "source": [
        "#localização dos centroides\n",
        "x = np.array([\n",
        "        [(-22.54317041, -43.26641772), (-22.54318803, -43.26641772), (-22.54320564, -43.26641772), (-22.54322326, -43.26641772), (-22.54324087, -43.26641772), (-22.54325849, -43.26641772), (-22.54327611, -43.26641772), (-22.54329372, -43.26641772), (-22.54331134, -43.26641772), (-22.54332895, -43.26641772), (-22.54334657, -43.26641772), (-22.54336419, -43.26641772), (-22.54338180, -43.26641772), (-22.54339942, -43.26641772), (-22.54341703, -43.26641772), (-22.54343465, -43.26641772), (-22.54345227, -43.26641772), (-22.54346988, -43.26641772), (-22.54348750, -43.26641772), (-22.54350511, -43.26641772), (-22.54352273, -43.26641772), (-22.54354035, -43.26641772), (-22.54355796, -43.26641772), (-22.54357558, -43.26641772), (-22.54359319, -43.26641772), (-22.54361081, -43.26641772), (-22.54362843, -43.26641772), (-22.54364604, -43.26641772), (-22.54366366, -43.26641772), (-22.54368127, -43.26641772), (-22.54369889, -43.26641772), (-22.54371651, -43.26641772), (-22.54373412, -43.26641772), (-22.54375174, -43.26641772), (-22.54376935, -43.26641772), (-22.54378697, -43.26641772)], \n",
        "\n",
        "        [(-22.54317041, -43.26646350), (-22.54318803, -43.26646350), (-22.54320564, -43.26646350), (-22.54322326, -43.26646350), (-22.54324087, -43.26646350), (-22.54325849, -43.26646350), (-22.54327611, -43.26646350), (-22.54329372, -43.26646350), (-22.54331134, -43.26646350), (-22.54332895, -43.26646350), (-22.54334657, -43.26646350), (-22.54336419, -43.26646350), (-22.54338180, -43.26646350), (-22.54339942, -43.26646350), (-22.54341703, -43.26646350), (-22.54343465, -43.26646350), (-22.54345227, -43.26646350), (-22.54346988, -43.26646350), (-22.54348750, -43.26646350), (-22.54350511, -43.26646350), (-22.54352273, -43.26646350), (-22.54354035, -43.26646350), (-22.54355796, -43.26646350), (-22.54357558, -43.26646350), (-22.54359319, -43.26646350), (-22.54361081, -43.26646350), (-22.54362843, -43.26646350), (-22.54364604, -43.26646350), (-22.54366366, -43.26646350), (-22.54368127, -43.26646350), (-22.54369889, -43.26646350), (-22.54371651, -43.26646350), (-22.54373412, -43.26646350), (-22.54375174, -43.26646350), (-22.54376935, -43.26646350), (-22.54378697, -43.26646350)], \n",
        "\n",
        "        [(-22.54317041, -43.26650927), (-22.54318803, -43.26650927), (-22.54320564, -43.26650927), (-22.54322326, -43.26650927), (-22.54324087, -43.26650927), (-22.54325849, -43.26650927), (-22.54327611, -43.26650927), (-22.54329372, -43.26650927), (-22.54331134, -43.26650927), (-22.54332895, -43.26650927), (-22.54334657, -43.26650927), (-22.54336419, -43.26650927), (-22.54338180, -43.26650927), (-22.54339942, -43.26650927), (-22.54341703, -43.26650927), (-22.54343465, -43.26650927), (-22.54345227, -43.26650927), (-22.54346988, -43.26650927), (-22.54348750, -43.26650927), (-22.54350511, -43.26650927), (-22.54352273, -43.26650927), (-22.54354035, -43.26650927), (-22.54355796, -43.26650927), (-22.54357558, -43.26650927), (-22.54359319, -43.26650927), (-22.54361081, -43.26650927), (-22.54362843, -43.26650927), (-22.54364604, -43.26650927), (-22.54366366, -43.26650927), (-22.54368127, -43.26650927), (-22.54369889, -43.26650927), (-22.54371651, -43.26650927), (-22.54373412, -43.26650927), (-22.54375174, -43.26650927), (-22.54376935, -43.26650927), (-22.54378697, -43.26650927)], \n",
        "\n",
        "        [(-22.54317041, -43.26655505), (-22.54318803, -43.26655505), (-22.54320564, -43.26655505), (-22.54322326, -43.26655505), (-22.54324087, -43.26655505), (-22.54325849, -43.26655505), (-22.54327611, -43.26655505), (-22.54329372, -43.26655505), (-22.54331134, -43.26655505), (-22.54332895, -43.26655505), (-22.54334657, -43.26655505), (-22.54336419, -43.26655505), (-22.54338180, -43.26655505), (-22.54339942, -43.26655505), (-22.54341703, -43.26655505), (-22.54343465, -43.26655505), (-22.54345227, -43.26655505), (-22.54346988, -43.26655505), (-22.54348750, -43.26655505), (-22.54350511, -43.26655505), (-22.54352273, -43.26655505), (-22.54354035, -43.26655505), (-22.54355796, -43.26655505), (-22.54357558, -43.26655505), (-22.54359319, -43.26655505), (-22.54361081, -43.26655505), (-22.54362843, -43.26655505), (-22.54364604, -43.26655505), (-22.54366366, -43.26655505), (-22.54368127, -43.26655505), (-22.54369889, -43.26655505), (-22.54371651, -43.26655505), (-22.54373412, -43.26655505), (-22.54375174, -43.26655505), (-22.54376935, -43.26655505), (-22.54378697, -43.26655505)],\n",
        "\n",
        "        [(-22.54317041, -43.26660083), (-22.54318803, -43.26660083), (-22.54320564, -43.26660083), (-22.54322326, -43.26660083), (-22.54324087, -43.26660083), (-22.54325849, -43.26660083), (-22.54327611, -43.26660083), (-22.54329372, -43.26660083), (-22.54331134, -43.26660083), (-22.54332895, -43.26660083), (-22.54334657, -43.26660083), (-22.54336419, -43.26660083), (-22.54338180, -43.26660083), (-22.54339942, -43.26660083), (-22.54341703, -43.26660083), (-22.54343465, -43.26660083), (-22.54345227, -43.26660083), (-22.54346988, -43.26660083), (-22.54348750, -43.26660083), (-22.54350511, -43.26660083), (-22.54352273, -43.26660083), (-22.54354035, -43.26660083), (-22.54355796, -43.26660083), (-22.54357558, -43.26660083), (-22.54359319, -43.26660083), (-22.54361081, -43.26660083), (-22.54362843, -43.26660083), (-22.54364604, -43.26660083), (-22.54366366, -43.26660083), (-22.54368127, -43.26660083), (-22.54369889, -43.26660083), (-22.54371651, -43.26660083), (-22.54373412, -43.26660083), (-22.54375174, -43.26660083), (-22.54376935, -43.26660083), (-22.54378697, -43.26660083)],\n",
        "\n",
        "        [(-22.54317041, -43.26664660), (-22.54318803, -43.26664660), (-22.54320564, -43.26664660), (-22.54322326, -43.26664660), (-22.54324087, -43.26664660), (-22.54325849, -43.26664660), (-22.54327611, -43.26664660), (-22.54329372, -43.26664660), (-22.54331134, -43.26664660), (-22.54332895, -43.26664660), (-22.54334657, -43.26664660), (-22.54336419, -43.26664660), (-22.54338180, -43.26664660), (-22.54339942, -43.26664660), (-22.54341703, -43.26664660), (-22.54343465, -43.26664660), (-22.54345227, -43.26664660), (-22.54346988, -43.26664660), (-22.54348750, -43.26664660), (-22.54350511, -43.26664660), (-22.54352273, -43.26664660), (-22.54354035, -43.26664660), (-22.54355796, -43.26664660), (-22.54357558, -43.26664660), (-22.54359319, -43.26664660), (-22.54361081, -43.26664660), (-22.54362843, -43.26664660), (-22.54364604, -43.26664660), (-22.54366366, -43.26664660), (-22.54368127, -43.26664660), (-22.54369889, -43.26664660), (-22.54371651, -43.26664660), (-22.54373412, -43.26664660), (-22.54375174, -43.26664660), (-22.54376935, -43.26664660), (-22.54378697, -43.26664660)],\n",
        "\n",
        "        [(-22.54317041, -43.26669238), (-22.54318803, -43.26669238), (-22.54320564, -43.26669238), (-22.54322326, -43.26669238), (-22.54324087, -43.26669238), (-22.54325849, -43.26669238), (-22.54327611, -43.26669238), (-22.54329372, -43.26669238), (-22.54331134, -43.26669238), (-22.54332895, -43.26669238), (-22.54334657, -43.26669238), (-22.54336419, -43.26669238), (-22.54338180, -43.26669238), (-22.54339942, -43.26669238), (-22.54341703, -43.26669238), (-22.54343465, -43.26669238), (-22.54345227, -43.26669238), (-22.54346988, -43.26669238), (-22.54348750, -43.26669238), (-22.54350511, -43.26669238), (-22.54352273, -43.26669238), (-22.54354035, -43.26669238), (-22.54355796, -43.26669238), (-22.54357558, -43.26669238), (-22.54359319, -43.26669238), (-22.54361081, -43.26669238), (-22.54362843, -43.26669238), (-22.54364604, -43.26669238), (-22.54366366, -43.26669238), (-22.54368127, -43.26669238), (-22.54369889, -43.26669238), (-22.54371651, -43.26669238), (-22.54373412, -43.26669238), (-22.54375174, -43.26669238), (-22.54376935, -43.26669238), (-22.54378697, -43.26669238)], \n",
        "\n",
        "        [(-22.54317041, -43.26673815), (-22.54318803, -43.26673815), (-22.54320564, -43.26673815), (-22.54322326, -43.26673815), (-22.54324087, -43.26673815), (-22.54325849, -43.26673815), (-22.54327611, -43.26673815), (-22.54329372, -43.26673815), (-22.54331134, -43.26673815), (-22.54332895, -43.26673815), (-22.54334657, -43.26673815), (-22.54336419, -43.26673815), (-22.54338180, -43.26673815), (-22.54339942, -43.26673815), (-22.54341703, -43.26673815), (-22.54343465, -43.26673815), (-22.54345227, -43.26673815), (-22.54346988, -43.26673815), (-22.54348750, -43.26673815), (-22.54350511, -43.26673815), (-22.54352273, -43.26673815), (-22.54354035, -43.26673815), (-22.54355796, -43.26673815), (-22.54357558, -43.26673815), (-22.54359319, -43.26673815), (-22.54361081, -43.26673815), (-22.54362843, -43.26673815), (-22.54364604, -43.26673815), (-22.54366366, -43.26673815), (-22.54368127, -43.26673815), (-22.54369889, -43.26673815), (-22.54371651, -43.26673815), (-22.54373412, -43.26673815), (-22.54375174, -43.26673815), (-22.54376935, -43.26673815), (-22.54378697, -43.26673815)], \n",
        "\n",
        "        [(-22.54317041, -43.26678393), (-22.54318803, -43.26678393), (-22.54320564, -43.26678393), (-22.54322326, -43.26678393), (-22.54324087, -43.26678393), (-22.54325849, -43.26678393), (-22.54327611, -43.26678393), (-22.54329372, -43.26678393), (-22.54331134, -43.26678393), (-22.54332895, -43.26678393), (-22.54334657, -43.26678393), (-22.54336419, -43.26678393), (-22.54338180, -43.26678393), (-22.54339942, -43.26678393), (-22.54341703, -43.26678393), (-22.54343465, -43.26678393), (-22.54345227, -43.26678393), (-22.54346988, -43.26678393), (-22.54348750, -43.26678393), (-22.54350511, -43.26678393), (-22.54352273, -43.26678393), (-22.54354035, -43.26678393), (-22.54355796, -43.26678393), (-22.54357558, -43.26678393), (-22.54359319, -43.26678393), (-22.54361081, -43.26678393), (-22.54362843, -43.26678393), (-22.54364604, -43.26678393), (-22.54366366, -43.26678393), (-22.54368127, -43.26678393), (-22.54369889, -43.26678393), (-22.54371651, -43.26678393), (-22.54373412, -43.26678393), (-22.54375174, -43.26678393), (-22.54376935, -43.26678393), (-22.54378697, -43.26678393)],\n",
        "           \n",
        "        [(-22.54317041, -43.26682971), (-22.54318803, -43.26682971), (-22.54320564, -43.26682971), (-22.54322326, -43.26682971), (-22.54324087, -43.26682971), (-22.54325849, -43.26682971), (-22.54327611, -43.26682971), (-22.54329372, -43.26682971), (-22.54331134, -43.26682971), (-22.54332895, -43.26682971), (-22.54334657, -43.26682971), (-22.54336419, -43.26682971), (-22.54338180, -43.26682971), (-22.54339942, -43.26682971), (-22.54341703, -43.26682971), (-22.54343465, -43.26682971), (-22.54345227, -43.26682971), (-22.54346988, -43.26682971), (-22.54348750, -43.26682971), (-22.54350511, -43.26682971), (-22.54352273, -43.26682971), (-22.54354035, -43.26682971), (-22.54355796, -43.26682971), (-22.54357558, -43.26682971), (-22.54359319, -43.26682971), (-22.54361081, -43.26682971), (-22.54362843, -43.26682971), (-22.54364604, -43.26682971), (-22.54366366, -43.26682971), (-22.54368127, -43.26682971), (-22.54369889, -43.26682971), (-22.54371651, -43.26682971), (-22.54373412, -43.26682971), (-22.54375174, -43.26682971), (-22.54376935, -43.26682971), (-22.54378697, -43.26682971)],\n",
        "    \n",
        "        [(-22.54317041, -43.26687548), (-22.54318803, -43.26687548), (-22.54320564, -43.26687548), (-22.54322326, -43.26687548), (-22.54324087, -43.26687548), (-22.54325849, -43.26687548), (-22.54327611, -43.26687548), (-22.54329372, -43.26687548), (-22.54331134, -43.26687548), (-22.54332895, -43.26687548), (-22.54334657, -43.26687548), (-22.54336419, -43.26687548), (-22.54338180, -43.26687548), (-22.54339942, -43.26687548), (-22.54341703, -43.26687548), (-22.54343465, -43.26687548), (-22.54345227, -43.26687548), (-22.54346988, -43.26687548), (-22.54348750, -43.26687548), (-22.54350511, -43.26687548), (-22.54352273, -43.26687548), (-22.54354035, -43.26687548), (-22.54355796, -43.26687548), (-22.54357558, -43.26687548), (-22.54359319, -43.26687548), (-22.54361081, -43.26687548), (-22.54362843, -43.26687548), (-22.54364604, -43.26687548), (-22.54366366, -43.26687548), (-22.54368127, -43.26687548), (-22.54369889, -43.26687548), (-22.54371651, -43.26687548), (-22.54373412, -43.26687548), (-22.54375174, -43.26687548), (-22.54376935, -43.26687548), (-22.54378697, -43.26687548)],\n",
        "    \n",
        "        [(-22.54317041, -43.26692126), (-22.54318803, -43.26692126), (-22.54320564, -43.26692126), (-22.54322326, -43.26692126), (-22.54324087, -43.26692126), (-22.54325849, -43.26692126), (-22.54327611, -43.26692126), (-22.54329372, -43.26692126), (-22.54331134, -43.26692126), (-22.54332895, -43.26692126), (-22.54334657, -43.26692126), (-22.54336419, -43.26692126), (-22.54338180, -43.26692126), (-22.54339942, -43.26692126), (-22.54341703, -43.26692126), (-22.54343465, -43.26692126), (-22.54345227, -43.26692126), (-22.54346988, -43.26692126), (-22.54348750, -43.26692126), (-22.54350511, -43.26692126), (-22.54352273, -43.26692126), (-22.54354035, -43.26692126), (-22.54355796, -43.26692126), (-22.54357558, -43.26692126), (-22.54359319, -43.26692126), (-22.54361081, -43.26692126), (-22.54362843, -43.26692126), (-22.54364604, -43.26692126), (-22.54366366, -43.26692126), (-22.54368127, -43.26692126), (-22.54369889, -43.26692126), (-22.54371651, -43.26692126), (-22.54373412, -43.26692126), (-22.54375174, -43.26692126), (-22.54376935, -43.26692126), (-22.54378697, -43.26692126)],\n",
        "                                 \n",
        "        [(-22.54317041, -43.26696703), (-22.54318803, -43.26696703), (-22.54320564, -43.26696703), (-22.54322326, -43.26696703), (-22.54324087, -43.26696703), (-22.54325849, -43.26696703), (-22.54327611, -43.26696703), (-22.54329372, -43.26696703), (-22.54331134, -43.26696703), (-22.54332895, -43.26696703), (-22.54334657, -43.26696703), (-22.54336419, -43.26696703), (-22.54338180, -43.26696703), (-22.54339942, -43.26696703), (-22.54341703, -43.26696703), (-22.54343465, -43.26696703), (-22.54345227, -43.26696703), (-22.54346988, -43.26696703), (-22.54348750, -43.26696703), (-22.54350511, -43.26696703), (-22.54352273, -43.26696703), (-22.54354035, -43.26696703), (-22.54355796, -43.26696703), (-22.54357558, -43.26696703), (-22.54359319, -43.26696703), (-22.54361081, -43.26696703), (-22.54362843, -43.26696703), (-22.54364604, -43.26696703), (-22.54366366, -43.26696703), (-22.54368127, -43.26696703), (-22.54369889, -43.26696703), (-22.54371651, -43.26696703), (-22.54373412, -43.26696703), (-22.54375174, -43.26696703), (-22.54376935, -43.26696703), (-22.54378697, -43.26696703)],\n",
        "               \n",
        "        [(-22.54317041, -43.26701281), (-22.54318803, -43.26701281), (-22.54320564, -43.26701281), (-22.54322326, -43.26701281), (-22.54324087, -43.26701281), (-22.54325849, -43.26701281), (-22.54327611, -43.26701281), (-22.54329372, -43.26701281), (-22.54331134, -43.26701281), (-22.54332895, -43.26701281), (-22.54334657, -43.26701281), (-22.54336419, -43.26701281), (-22.54338180, -43.26701281), (-22.54339942, -43.26701281), (-22.54341703, -43.26701281), (-22.54343465, -43.26701281), (-22.54345227, -43.26701281), (-22.54346988, -43.26701281), (-22.54348750, -43.26701281), (-22.54350511, -43.26701281), (-22.54352273, -43.26701281), (-22.54354035, -43.26701281), (-22.54355796, -43.26701281), (-22.54357558, -43.26701281), (-22.54359319, -43.26701281), (-22.54361081, -43.26701281), (-22.54362843, -43.26701281), (-22.54364604, -43.26701281), (-22.54366366, -43.26701281), (-22.54368127, -43.26701281), (-22.54369889, -43.26701281), (-22.54371651, -43.26701281), (-22.54373412, -43.26701281), (-22.54375174, -43.26701281), (-22.54376935, -43.26701281), (-22.54378697, -43.26701281)],\n",
        "\n",
        "        [(-22.54317041, -43.26705859), (-22.54318803, -43.26705859), (-22.54320564, -43.26705859), (-22.54322326, -43.26705859), (-22.54324087, -43.26705859), (-22.54325849, -43.26705859), (-22.54327611, -43.26705859), (-22.54329372, -43.26705859), (-22.54331134, -43.26705859), (-22.54332895, -43.26705859), (-22.54334657, -43.26705859), (-22.54336419, -43.26705859), (-22.54338180, -43.26705859), (-22.54339942, -43.26705859), (-22.54341703, -43.26705859), (-22.54343465, -43.26705859), (-22.54345227, -43.26705859), (-22.54346988, -43.26705859), (-22.54348750, -43.26705859), (-22.54350511, -43.26705859), (-22.54352273, -43.26705859), (-22.54354035, -43.26705859), (-22.54355796, -43.26705859), (-22.54357558, -43.26705859), (-22.54359319, -43.26705859), (-22.54361081, -43.26705859), (-22.54362843, -43.26705859), (-22.54364604, -43.26705859), (-22.54366366, -43.26705859), (-22.54368127, -43.26705859), (-22.54369889, -43.26705859), (-22.54371651, -43.26705859), (-22.54373412, -43.26705859), (-22.54375174, -43.26705859), (-22.54376935, -43.26705859), (-22.54378697, -43.26705859)]\n",
        "        ])"
      ]
    },
    {
      "cell_type": "code",
      "source": [
        "x[0][0]"
      ],
      "metadata": {
        "colab": {
          "base_uri": "https://localhost:8080/"
        },
        "id": "2rymgSnyrbvJ",
        "outputId": "92806dbf-795a-4752-df0f-f553e07013ce"
      },
      "execution_count": null,
      "outputs": [
        {
          "output_type": "execute_result",
          "data": {
            "text/plain": [
              "array([-22.54317041, -43.26641772])"
            ]
          },
          "metadata": {},
          "execution_count": 60
        }
      ]
    },
    {
      "cell_type": "code",
      "source": [
        "x[14,0]"
      ],
      "metadata": {
        "colab": {
          "base_uri": "https://localhost:8080/"
        },
        "id": "F0nPQ3-grg3b",
        "outputId": "abec58f8-f16a-4cab-82c9-e05e1d27b57a"
      },
      "execution_count": null,
      "outputs": [
        {
          "output_type": "execute_result",
          "data": {
            "text/plain": [
              "array([-22.54317041, -43.26705859])"
            ]
          },
          "metadata": {},
          "execution_count": 61
        }
      ]
    },
    {
      "cell_type": "code",
      "source": [
        "#Convertendo o numpy array em lista e percorrendo (localização dos centroides)\n",
        "listaX = []\n",
        "\n",
        "for i in range(len(x[0])):\n",
        "    for j in range(len(x)):\n",
        "       X = x[j][i]\n",
        "       listaX.append(X)\n",
        "print(listaX)"
      ],
      "metadata": {
        "colab": {
          "base_uri": "https://localhost:8080/"
        },
        "id": "t-6pb90jlerH",
        "outputId": "aa07e70e-4acf-4436-a901-b247d39c127a"
      },
      "execution_count": null,
      "outputs": [
        {
          "output_type": "stream",
          "name": "stdout",
          "text": [
            "[array([-22.54317041, -43.26641772]), array([-22.54317041, -43.2664635 ]), array([-22.54317041, -43.26650927]), array([-22.54317041, -43.26655505]), array([-22.54317041, -43.26660083]), array([-22.54317041, -43.2666466 ]), array([-22.54317041, -43.26669238]), array([-22.54317041, -43.26673815]), array([-22.54317041, -43.26678393]), array([-22.54317041, -43.26682971]), array([-22.54317041, -43.26687548]), array([-22.54317041, -43.26692126]), array([-22.54317041, -43.26696703]), array([-22.54317041, -43.26701281]), array([-22.54317041, -43.26705859]), array([-22.54318803, -43.26641772]), array([-22.54318803, -43.2664635 ]), array([-22.54318803, -43.26650927]), array([-22.54318803, -43.26655505]), array([-22.54318803, -43.26660083]), array([-22.54318803, -43.2666466 ]), array([-22.54318803, -43.26669238]), array([-22.54318803, -43.26673815]), array([-22.54318803, -43.26678393]), array([-22.54318803, -43.26682971]), array([-22.54318803, -43.26687548]), array([-22.54318803, -43.26692126]), array([-22.54318803, -43.26696703]), array([-22.54318803, -43.26701281]), array([-22.54318803, -43.26705859]), array([-22.54320564, -43.26641772]), array([-22.54320564, -43.2664635 ]), array([-22.54320564, -43.26650927]), array([-22.54320564, -43.26655505]), array([-22.54320564, -43.26660083]), array([-22.54320564, -43.2666466 ]), array([-22.54320564, -43.26669238]), array([-22.54320564, -43.26673815]), array([-22.54320564, -43.26678393]), array([-22.54320564, -43.26682971]), array([-22.54320564, -43.26687548]), array([-22.54320564, -43.26692126]), array([-22.54320564, -43.26696703]), array([-22.54320564, -43.26701281]), array([-22.54320564, -43.26705859]), array([-22.54322326, -43.26641772]), array([-22.54322326, -43.2664635 ]), array([-22.54322326, -43.26650927]), array([-22.54322326, -43.26655505]), array([-22.54322326, -43.26660083]), array([-22.54322326, -43.2666466 ]), array([-22.54322326, -43.26669238]), array([-22.54322326, -43.26673815]), array([-22.54322326, -43.26678393]), array([-22.54322326, -43.26682971]), array([-22.54322326, -43.26687548]), array([-22.54322326, -43.26692126]), array([-22.54322326, -43.26696703]), array([-22.54322326, -43.26701281]), array([-22.54322326, -43.26705859]), array([-22.54324087, -43.26641772]), array([-22.54324087, -43.2664635 ]), array([-22.54324087, -43.26650927]), array([-22.54324087, -43.26655505]), array([-22.54324087, -43.26660083]), array([-22.54324087, -43.2666466 ]), array([-22.54324087, -43.26669238]), array([-22.54324087, -43.26673815]), array([-22.54324087, -43.26678393]), array([-22.54324087, -43.26682971]), array([-22.54324087, -43.26687548]), array([-22.54324087, -43.26692126]), array([-22.54324087, -43.26696703]), array([-22.54324087, -43.26701281]), array([-22.54324087, -43.26705859]), array([-22.54325849, -43.26641772]), array([-22.54325849, -43.2664635 ]), array([-22.54325849, -43.26650927]), array([-22.54325849, -43.26655505]), array([-22.54325849, -43.26660083]), array([-22.54325849, -43.2666466 ]), array([-22.54325849, -43.26669238]), array([-22.54325849, -43.26673815]), array([-22.54325849, -43.26678393]), array([-22.54325849, -43.26682971]), array([-22.54325849, -43.26687548]), array([-22.54325849, -43.26692126]), array([-22.54325849, -43.26696703]), array([-22.54325849, -43.26701281]), array([-22.54325849, -43.26705859]), array([-22.54327611, -43.26641772]), array([-22.54327611, -43.2664635 ]), array([-22.54327611, -43.26650927]), array([-22.54327611, -43.26655505]), array([-22.54327611, -43.26660083]), array([-22.54327611, -43.2666466 ]), array([-22.54327611, -43.26669238]), array([-22.54327611, -43.26673815]), array([-22.54327611, -43.26678393]), array([-22.54327611, -43.26682971]), array([-22.54327611, -43.26687548]), array([-22.54327611, -43.26692126]), array([-22.54327611, -43.26696703]), array([-22.54327611, -43.26701281]), array([-22.54327611, -43.26705859]), array([-22.54329372, -43.26641772]), array([-22.54329372, -43.2664635 ]), array([-22.54329372, -43.26650927]), array([-22.54329372, -43.26655505]), array([-22.54329372, -43.26660083]), array([-22.54329372, -43.2666466 ]), array([-22.54329372, -43.26669238]), array([-22.54329372, -43.26673815]), array([-22.54329372, -43.26678393]), array([-22.54329372, -43.26682971]), array([-22.54329372, -43.26687548]), array([-22.54329372, -43.26692126]), array([-22.54329372, -43.26696703]), array([-22.54329372, -43.26701281]), array([-22.54329372, -43.26705859]), array([-22.54331134, -43.26641772]), array([-22.54331134, -43.2664635 ]), array([-22.54331134, -43.26650927]), array([-22.54331134, -43.26655505]), array([-22.54331134, -43.26660083]), array([-22.54331134, -43.2666466 ]), array([-22.54331134, -43.26669238]), array([-22.54331134, -43.26673815]), array([-22.54331134, -43.26678393]), array([-22.54331134, -43.26682971]), array([-22.54331134, -43.26687548]), array([-22.54331134, -43.26692126]), array([-22.54331134, -43.26696703]), array([-22.54331134, -43.26701281]), array([-22.54331134, -43.26705859]), array([-22.54332895, -43.26641772]), array([-22.54332895, -43.2664635 ]), array([-22.54332895, -43.26650927]), array([-22.54332895, -43.26655505]), array([-22.54332895, -43.26660083]), array([-22.54332895, -43.2666466 ]), array([-22.54332895, -43.26669238]), array([-22.54332895, -43.26673815]), array([-22.54332895, -43.26678393]), array([-22.54332895, -43.26682971]), array([-22.54332895, -43.26687548]), array([-22.54332895, -43.26692126]), array([-22.54332895, -43.26696703]), array([-22.54332895, -43.26701281]), array([-22.54332895, -43.26705859]), array([-22.54334657, -43.26641772]), array([-22.54334657, -43.2664635 ]), array([-22.54334657, -43.26650927]), array([-22.54334657, -43.26655505]), array([-22.54334657, -43.26660083]), array([-22.54334657, -43.2666466 ]), array([-22.54334657, -43.26669238]), array([-22.54334657, -43.26673815]), array([-22.54334657, -43.26678393]), array([-22.54334657, -43.26682971]), array([-22.54334657, -43.26687548]), array([-22.54334657, -43.26692126]), array([-22.54334657, -43.26696703]), array([-22.54334657, -43.26701281]), array([-22.54334657, -43.26705859]), array([-22.54336419, -43.26641772]), array([-22.54336419, -43.2664635 ]), array([-22.54336419, -43.26650927]), array([-22.54336419, -43.26655505]), array([-22.54336419, -43.26660083]), array([-22.54336419, -43.2666466 ]), array([-22.54336419, -43.26669238]), array([-22.54336419, -43.26673815]), array([-22.54336419, -43.26678393]), array([-22.54336419, -43.26682971]), array([-22.54336419, -43.26687548]), array([-22.54336419, -43.26692126]), array([-22.54336419, -43.26696703]), array([-22.54336419, -43.26701281]), array([-22.54336419, -43.26705859]), array([-22.5433818 , -43.26641772]), array([-22.5433818, -43.2664635]), array([-22.5433818 , -43.26650927]), array([-22.5433818 , -43.26655505]), array([-22.5433818 , -43.26660083]), array([-22.5433818, -43.2666466]), array([-22.5433818 , -43.26669238]), array([-22.5433818 , -43.26673815]), array([-22.5433818 , -43.26678393]), array([-22.5433818 , -43.26682971]), array([-22.5433818 , -43.26687548]), array([-22.5433818 , -43.26692126]), array([-22.5433818 , -43.26696703]), array([-22.5433818 , -43.26701281]), array([-22.5433818 , -43.26705859]), array([-22.54339942, -43.26641772]), array([-22.54339942, -43.2664635 ]), array([-22.54339942, -43.26650927]), array([-22.54339942, -43.26655505]), array([-22.54339942, -43.26660083]), array([-22.54339942, -43.2666466 ]), array([-22.54339942, -43.26669238]), array([-22.54339942, -43.26673815]), array([-22.54339942, -43.26678393]), array([-22.54339942, -43.26682971]), array([-22.54339942, -43.26687548]), array([-22.54339942, -43.26692126]), array([-22.54339942, -43.26696703]), array([-22.54339942, -43.26701281]), array([-22.54339942, -43.26705859]), array([-22.54341703, -43.26641772]), array([-22.54341703, -43.2664635 ]), array([-22.54341703, -43.26650927]), array([-22.54341703, -43.26655505]), array([-22.54341703, -43.26660083]), array([-22.54341703, -43.2666466 ]), array([-22.54341703, -43.26669238]), array([-22.54341703, -43.26673815]), array([-22.54341703, -43.26678393]), array([-22.54341703, -43.26682971]), array([-22.54341703, -43.26687548]), array([-22.54341703, -43.26692126]), array([-22.54341703, -43.26696703]), array([-22.54341703, -43.26701281]), array([-22.54341703, -43.26705859]), array([-22.54343465, -43.26641772]), array([-22.54343465, -43.2664635 ]), array([-22.54343465, -43.26650927]), array([-22.54343465, -43.26655505]), array([-22.54343465, -43.26660083]), array([-22.54343465, -43.2666466 ]), array([-22.54343465, -43.26669238]), array([-22.54343465, -43.26673815]), array([-22.54343465, -43.26678393]), array([-22.54343465, -43.26682971]), array([-22.54343465, -43.26687548]), array([-22.54343465, -43.26692126]), array([-22.54343465, -43.26696703]), array([-22.54343465, -43.26701281]), array([-22.54343465, -43.26705859]), array([-22.54345227, -43.26641772]), array([-22.54345227, -43.2664635 ]), array([-22.54345227, -43.26650927]), array([-22.54345227, -43.26655505]), array([-22.54345227, -43.26660083]), array([-22.54345227, -43.2666466 ]), array([-22.54345227, -43.26669238]), array([-22.54345227, -43.26673815]), array([-22.54345227, -43.26678393]), array([-22.54345227, -43.26682971]), array([-22.54345227, -43.26687548]), array([-22.54345227, -43.26692126]), array([-22.54345227, -43.26696703]), array([-22.54345227, -43.26701281]), array([-22.54345227, -43.26705859]), array([-22.54346988, -43.26641772]), array([-22.54346988, -43.2664635 ]), array([-22.54346988, -43.26650927]), array([-22.54346988, -43.26655505]), array([-22.54346988, -43.26660083]), array([-22.54346988, -43.2666466 ]), array([-22.54346988, -43.26669238]), array([-22.54346988, -43.26673815]), array([-22.54346988, -43.26678393]), array([-22.54346988, -43.26682971]), array([-22.54346988, -43.26687548]), array([-22.54346988, -43.26692126]), array([-22.54346988, -43.26696703]), array([-22.54346988, -43.26701281]), array([-22.54346988, -43.26705859]), array([-22.5434875 , -43.26641772]), array([-22.5434875, -43.2664635]), array([-22.5434875 , -43.26650927]), array([-22.5434875 , -43.26655505]), array([-22.5434875 , -43.26660083]), array([-22.5434875, -43.2666466]), array([-22.5434875 , -43.26669238]), array([-22.5434875 , -43.26673815]), array([-22.5434875 , -43.26678393]), array([-22.5434875 , -43.26682971]), array([-22.5434875 , -43.26687548]), array([-22.5434875 , -43.26692126]), array([-22.5434875 , -43.26696703]), array([-22.5434875 , -43.26701281]), array([-22.5434875 , -43.26705859]), array([-22.54350511, -43.26641772]), array([-22.54350511, -43.2664635 ]), array([-22.54350511, -43.26650927]), array([-22.54350511, -43.26655505]), array([-22.54350511, -43.26660083]), array([-22.54350511, -43.2666466 ]), array([-22.54350511, -43.26669238]), array([-22.54350511, -43.26673815]), array([-22.54350511, -43.26678393]), array([-22.54350511, -43.26682971]), array([-22.54350511, -43.26687548]), array([-22.54350511, -43.26692126]), array([-22.54350511, -43.26696703]), array([-22.54350511, -43.26701281]), array([-22.54350511, -43.26705859]), array([-22.54352273, -43.26641772]), array([-22.54352273, -43.2664635 ]), array([-22.54352273, -43.26650927]), array([-22.54352273, -43.26655505]), array([-22.54352273, -43.26660083]), array([-22.54352273, -43.2666466 ]), array([-22.54352273, -43.26669238]), array([-22.54352273, -43.26673815]), array([-22.54352273, -43.26678393]), array([-22.54352273, -43.26682971]), array([-22.54352273, -43.26687548]), array([-22.54352273, -43.26692126]), array([-22.54352273, -43.26696703]), array([-22.54352273, -43.26701281]), array([-22.54352273, -43.26705859]), array([-22.54354035, -43.26641772]), array([-22.54354035, -43.2664635 ]), array([-22.54354035, -43.26650927]), array([-22.54354035, -43.26655505]), array([-22.54354035, -43.26660083]), array([-22.54354035, -43.2666466 ]), array([-22.54354035, -43.26669238]), array([-22.54354035, -43.26673815]), array([-22.54354035, -43.26678393]), array([-22.54354035, -43.26682971]), array([-22.54354035, -43.26687548]), array([-22.54354035, -43.26692126]), array([-22.54354035, -43.26696703]), array([-22.54354035, -43.26701281]), array([-22.54354035, -43.26705859]), array([-22.54355796, -43.26641772]), array([-22.54355796, -43.2664635 ]), array([-22.54355796, -43.26650927]), array([-22.54355796, -43.26655505]), array([-22.54355796, -43.26660083]), array([-22.54355796, -43.2666466 ]), array([-22.54355796, -43.26669238]), array([-22.54355796, -43.26673815]), array([-22.54355796, -43.26678393]), array([-22.54355796, -43.26682971]), array([-22.54355796, -43.26687548]), array([-22.54355796, -43.26692126]), array([-22.54355796, -43.26696703]), array([-22.54355796, -43.26701281]), array([-22.54355796, -43.26705859]), array([-22.54357558, -43.26641772]), array([-22.54357558, -43.2664635 ]), array([-22.54357558, -43.26650927]), array([-22.54357558, -43.26655505]), array([-22.54357558, -43.26660083]), array([-22.54357558, -43.2666466 ]), array([-22.54357558, -43.26669238]), array([-22.54357558, -43.26673815]), array([-22.54357558, -43.26678393]), array([-22.54357558, -43.26682971]), array([-22.54357558, -43.26687548]), array([-22.54357558, -43.26692126]), array([-22.54357558, -43.26696703]), array([-22.54357558, -43.26701281]), array([-22.54357558, -43.26705859]), array([-22.54359319, -43.26641772]), array([-22.54359319, -43.2664635 ]), array([-22.54359319, -43.26650927]), array([-22.54359319, -43.26655505]), array([-22.54359319, -43.26660083]), array([-22.54359319, -43.2666466 ]), array([-22.54359319, -43.26669238]), array([-22.54359319, -43.26673815]), array([-22.54359319, -43.26678393]), array([-22.54359319, -43.26682971]), array([-22.54359319, -43.26687548]), array([-22.54359319, -43.26692126]), array([-22.54359319, -43.26696703]), array([-22.54359319, -43.26701281]), array([-22.54359319, -43.26705859]), array([-22.54361081, -43.26641772]), array([-22.54361081, -43.2664635 ]), array([-22.54361081, -43.26650927]), array([-22.54361081, -43.26655505]), array([-22.54361081, -43.26660083]), array([-22.54361081, -43.2666466 ]), array([-22.54361081, -43.26669238]), array([-22.54361081, -43.26673815]), array([-22.54361081, -43.26678393]), array([-22.54361081, -43.26682971]), array([-22.54361081, -43.26687548]), array([-22.54361081, -43.26692126]), array([-22.54361081, -43.26696703]), array([-22.54361081, -43.26701281]), array([-22.54361081, -43.26705859]), array([-22.54362843, -43.26641772]), array([-22.54362843, -43.2664635 ]), array([-22.54362843, -43.26650927]), array([-22.54362843, -43.26655505]), array([-22.54362843, -43.26660083]), array([-22.54362843, -43.2666466 ]), array([-22.54362843, -43.26669238]), array([-22.54362843, -43.26673815]), array([-22.54362843, -43.26678393]), array([-22.54362843, -43.26682971]), array([-22.54362843, -43.26687548]), array([-22.54362843, -43.26692126]), array([-22.54362843, -43.26696703]), array([-22.54362843, -43.26701281]), array([-22.54362843, -43.26705859]), array([-22.54364604, -43.26641772]), array([-22.54364604, -43.2664635 ]), array([-22.54364604, -43.26650927]), array([-22.54364604, -43.26655505]), array([-22.54364604, -43.26660083]), array([-22.54364604, -43.2666466 ]), array([-22.54364604, -43.26669238]), array([-22.54364604, -43.26673815]), array([-22.54364604, -43.26678393]), array([-22.54364604, -43.26682971]), array([-22.54364604, -43.26687548]), array([-22.54364604, -43.26692126]), array([-22.54364604, -43.26696703]), array([-22.54364604, -43.26701281]), array([-22.54364604, -43.26705859]), array([-22.54366366, -43.26641772]), array([-22.54366366, -43.2664635 ]), array([-22.54366366, -43.26650927]), array([-22.54366366, -43.26655505]), array([-22.54366366, -43.26660083]), array([-22.54366366, -43.2666466 ]), array([-22.54366366, -43.26669238]), array([-22.54366366, -43.26673815]), array([-22.54366366, -43.26678393]), array([-22.54366366, -43.26682971]), array([-22.54366366, -43.26687548]), array([-22.54366366, -43.26692126]), array([-22.54366366, -43.26696703]), array([-22.54366366, -43.26701281]), array([-22.54366366, -43.26705859]), array([-22.54368127, -43.26641772]), array([-22.54368127, -43.2664635 ]), array([-22.54368127, -43.26650927]), array([-22.54368127, -43.26655505]), array([-22.54368127, -43.26660083]), array([-22.54368127, -43.2666466 ]), array([-22.54368127, -43.26669238]), array([-22.54368127, -43.26673815]), array([-22.54368127, -43.26678393]), array([-22.54368127, -43.26682971]), array([-22.54368127, -43.26687548]), array([-22.54368127, -43.26692126]), array([-22.54368127, -43.26696703]), array([-22.54368127, -43.26701281]), array([-22.54368127, -43.26705859]), array([-22.54369889, -43.26641772]), array([-22.54369889, -43.2664635 ]), array([-22.54369889, -43.26650927]), array([-22.54369889, -43.26655505]), array([-22.54369889, -43.26660083]), array([-22.54369889, -43.2666466 ]), array([-22.54369889, -43.26669238]), array([-22.54369889, -43.26673815]), array([-22.54369889, -43.26678393]), array([-22.54369889, -43.26682971]), array([-22.54369889, -43.26687548]), array([-22.54369889, -43.26692126]), array([-22.54369889, -43.26696703]), array([-22.54369889, -43.26701281]), array([-22.54369889, -43.26705859]), array([-22.54371651, -43.26641772]), array([-22.54371651, -43.2664635 ]), array([-22.54371651, -43.26650927]), array([-22.54371651, -43.26655505]), array([-22.54371651, -43.26660083]), array([-22.54371651, -43.2666466 ]), array([-22.54371651, -43.26669238]), array([-22.54371651, -43.26673815]), array([-22.54371651, -43.26678393]), array([-22.54371651, -43.26682971]), array([-22.54371651, -43.26687548]), array([-22.54371651, -43.26692126]), array([-22.54371651, -43.26696703]), array([-22.54371651, -43.26701281]), array([-22.54371651, -43.26705859]), array([-22.54373412, -43.26641772]), array([-22.54373412, -43.2664635 ]), array([-22.54373412, -43.26650927]), array([-22.54373412, -43.26655505]), array([-22.54373412, -43.26660083]), array([-22.54373412, -43.2666466 ]), array([-22.54373412, -43.26669238]), array([-22.54373412, -43.26673815]), array([-22.54373412, -43.26678393]), array([-22.54373412, -43.26682971]), array([-22.54373412, -43.26687548]), array([-22.54373412, -43.26692126]), array([-22.54373412, -43.26696703]), array([-22.54373412, -43.26701281]), array([-22.54373412, -43.26705859]), array([-22.54375174, -43.26641772]), array([-22.54375174, -43.2664635 ]), array([-22.54375174, -43.26650927]), array([-22.54375174, -43.26655505]), array([-22.54375174, -43.26660083]), array([-22.54375174, -43.2666466 ]), array([-22.54375174, -43.26669238]), array([-22.54375174, -43.26673815]), array([-22.54375174, -43.26678393]), array([-22.54375174, -43.26682971]), array([-22.54375174, -43.26687548]), array([-22.54375174, -43.26692126]), array([-22.54375174, -43.26696703]), array([-22.54375174, -43.26701281]), array([-22.54375174, -43.26705859]), array([-22.54376935, -43.26641772]), array([-22.54376935, -43.2664635 ]), array([-22.54376935, -43.26650927]), array([-22.54376935, -43.26655505]), array([-22.54376935, -43.26660083]), array([-22.54376935, -43.2666466 ]), array([-22.54376935, -43.26669238]), array([-22.54376935, -43.26673815]), array([-22.54376935, -43.26678393]), array([-22.54376935, -43.26682971]), array([-22.54376935, -43.26687548]), array([-22.54376935, -43.26692126]), array([-22.54376935, -43.26696703]), array([-22.54376935, -43.26701281]), array([-22.54376935, -43.26705859]), array([-22.54378697, -43.26641772]), array([-22.54378697, -43.2664635 ]), array([-22.54378697, -43.26650927]), array([-22.54378697, -43.26655505]), array([-22.54378697, -43.26660083]), array([-22.54378697, -43.2666466 ]), array([-22.54378697, -43.26669238]), array([-22.54378697, -43.26673815]), array([-22.54378697, -43.26678393]), array([-22.54378697, -43.26682971]), array([-22.54378697, -43.26687548]), array([-22.54378697, -43.26692126]), array([-22.54378697, -43.26696703]), array([-22.54378697, -43.26701281]), array([-22.54378697, -43.26705859])]\n"
          ]
        }
      ]
    },
    {
      "cell_type": "code",
      "source": [
        "#coordenadas centroides em dataFrame\n",
        "df_tabular = pd.DataFrame(listaX, columns = ['Latitude', 'Longitude'])\n",
        "df_tabular"
      ],
      "metadata": {
        "colab": {
          "base_uri": "https://localhost:8080/",
          "height": 423
        },
        "id": "MnLAvZeelgfJ",
        "outputId": "d5b4f96f-32e1-4b36-a638-8e7ef43126ae"
      },
      "execution_count": null,
      "outputs": [
        {
          "output_type": "execute_result",
          "data": {
            "text/plain": [
              "      Latitude  Longitude\n",
              "0   -22.543170 -43.266418\n",
              "1   -22.543170 -43.266464\n",
              "2   -22.543170 -43.266509\n",
              "3   -22.543170 -43.266555\n",
              "4   -22.543170 -43.266601\n",
              "..         ...        ...\n",
              "535 -22.543787 -43.266875\n",
              "536 -22.543787 -43.266921\n",
              "537 -22.543787 -43.266967\n",
              "538 -22.543787 -43.267013\n",
              "539 -22.543787 -43.267059\n",
              "\n",
              "[540 rows x 2 columns]"
            ],
            "text/html": [
              "\n",
              "  <div id=\"df-d3e79f3b-32a8-4fd3-b7cb-8e748077727a\">\n",
              "    <div class=\"colab-df-container\">\n",
              "      <div>\n",
              "<style scoped>\n",
              "    .dataframe tbody tr th:only-of-type {\n",
              "        vertical-align: middle;\n",
              "    }\n",
              "\n",
              "    .dataframe tbody tr th {\n",
              "        vertical-align: top;\n",
              "    }\n",
              "\n",
              "    .dataframe thead th {\n",
              "        text-align: right;\n",
              "    }\n",
              "</style>\n",
              "<table border=\"1\" class=\"dataframe\">\n",
              "  <thead>\n",
              "    <tr style=\"text-align: right;\">\n",
              "      <th></th>\n",
              "      <th>Latitude</th>\n",
              "      <th>Longitude</th>\n",
              "    </tr>\n",
              "  </thead>\n",
              "  <tbody>\n",
              "    <tr>\n",
              "      <th>0</th>\n",
              "      <td>-22.543170</td>\n",
              "      <td>-43.266418</td>\n",
              "    </tr>\n",
              "    <tr>\n",
              "      <th>1</th>\n",
              "      <td>-22.543170</td>\n",
              "      <td>-43.266464</td>\n",
              "    </tr>\n",
              "    <tr>\n",
              "      <th>2</th>\n",
              "      <td>-22.543170</td>\n",
              "      <td>-43.266509</td>\n",
              "    </tr>\n",
              "    <tr>\n",
              "      <th>3</th>\n",
              "      <td>-22.543170</td>\n",
              "      <td>-43.266555</td>\n",
              "    </tr>\n",
              "    <tr>\n",
              "      <th>4</th>\n",
              "      <td>-22.543170</td>\n",
              "      <td>-43.266601</td>\n",
              "    </tr>\n",
              "    <tr>\n",
              "      <th>...</th>\n",
              "      <td>...</td>\n",
              "      <td>...</td>\n",
              "    </tr>\n",
              "    <tr>\n",
              "      <th>535</th>\n",
              "      <td>-22.543787</td>\n",
              "      <td>-43.266875</td>\n",
              "    </tr>\n",
              "    <tr>\n",
              "      <th>536</th>\n",
              "      <td>-22.543787</td>\n",
              "      <td>-43.266921</td>\n",
              "    </tr>\n",
              "    <tr>\n",
              "      <th>537</th>\n",
              "      <td>-22.543787</td>\n",
              "      <td>-43.266967</td>\n",
              "    </tr>\n",
              "    <tr>\n",
              "      <th>538</th>\n",
              "      <td>-22.543787</td>\n",
              "      <td>-43.267013</td>\n",
              "    </tr>\n",
              "    <tr>\n",
              "      <th>539</th>\n",
              "      <td>-22.543787</td>\n",
              "      <td>-43.267059</td>\n",
              "    </tr>\n",
              "  </tbody>\n",
              "</table>\n",
              "<p>540 rows × 2 columns</p>\n",
              "</div>\n",
              "      <button class=\"colab-df-convert\" onclick=\"convertToInteractive('df-d3e79f3b-32a8-4fd3-b7cb-8e748077727a')\"\n",
              "              title=\"Convert this dataframe to an interactive table.\"\n",
              "              style=\"display:none;\">\n",
              "        \n",
              "  <svg xmlns=\"http://www.w3.org/2000/svg\" height=\"24px\"viewBox=\"0 0 24 24\"\n",
              "       width=\"24px\">\n",
              "    <path d=\"M0 0h24v24H0V0z\" fill=\"none\"/>\n",
              "    <path d=\"M18.56 5.44l.94 2.06.94-2.06 2.06-.94-2.06-.94-.94-2.06-.94 2.06-2.06.94zm-11 1L8.5 8.5l.94-2.06 2.06-.94-2.06-.94L8.5 2.5l-.94 2.06-2.06.94zm10 10l.94 2.06.94-2.06 2.06-.94-2.06-.94-.94-2.06-.94 2.06-2.06.94z\"/><path d=\"M17.41 7.96l-1.37-1.37c-.4-.4-.92-.59-1.43-.59-.52 0-1.04.2-1.43.59L10.3 9.45l-7.72 7.72c-.78.78-.78 2.05 0 2.83L4 21.41c.39.39.9.59 1.41.59.51 0 1.02-.2 1.41-.59l7.78-7.78 2.81-2.81c.8-.78.8-2.07 0-2.86zM5.41 20L4 18.59l7.72-7.72 1.47 1.35L5.41 20z\"/>\n",
              "  </svg>\n",
              "      </button>\n",
              "      \n",
              "  <style>\n",
              "    .colab-df-container {\n",
              "      display:flex;\n",
              "      flex-wrap:wrap;\n",
              "      gap: 12px;\n",
              "    }\n",
              "\n",
              "    .colab-df-convert {\n",
              "      background-color: #E8F0FE;\n",
              "      border: none;\n",
              "      border-radius: 50%;\n",
              "      cursor: pointer;\n",
              "      display: none;\n",
              "      fill: #1967D2;\n",
              "      height: 32px;\n",
              "      padding: 0 0 0 0;\n",
              "      width: 32px;\n",
              "    }\n",
              "\n",
              "    .colab-df-convert:hover {\n",
              "      background-color: #E2EBFA;\n",
              "      box-shadow: 0px 1px 2px rgba(60, 64, 67, 0.3), 0px 1px 3px 1px rgba(60, 64, 67, 0.15);\n",
              "      fill: #174EA6;\n",
              "    }\n",
              "\n",
              "    [theme=dark] .colab-df-convert {\n",
              "      background-color: #3B4455;\n",
              "      fill: #D2E3FC;\n",
              "    }\n",
              "\n",
              "    [theme=dark] .colab-df-convert:hover {\n",
              "      background-color: #434B5C;\n",
              "      box-shadow: 0px 1px 3px 1px rgba(0, 0, 0, 0.15);\n",
              "      filter: drop-shadow(0px 1px 2px rgba(0, 0, 0, 0.3));\n",
              "      fill: #FFFFFF;\n",
              "    }\n",
              "  </style>\n",
              "\n",
              "      <script>\n",
              "        const buttonEl =\n",
              "          document.querySelector('#df-d3e79f3b-32a8-4fd3-b7cb-8e748077727a button.colab-df-convert');\n",
              "        buttonEl.style.display =\n",
              "          google.colab.kernel.accessAllowed ? 'block' : 'none';\n",
              "\n",
              "        async function convertToInteractive(key) {\n",
              "          const element = document.querySelector('#df-d3e79f3b-32a8-4fd3-b7cb-8e748077727a');\n",
              "          const dataTable =\n",
              "            await google.colab.kernel.invokeFunction('convertToInteractive',\n",
              "                                                     [key], {});\n",
              "          if (!dataTable) return;\n",
              "\n",
              "          const docLinkHtml = 'Like what you see? Visit the ' +\n",
              "            '<a target=\"_blank\" href=https://colab.research.google.com/notebooks/data_table.ipynb>data table notebook</a>'\n",
              "            + ' to learn more about interactive tables.';\n",
              "          element.innerHTML = '';\n",
              "          dataTable['output_type'] = 'display_data';\n",
              "          await google.colab.output.renderOutput(dataTable, element);\n",
              "          const docLink = document.createElement('div');\n",
              "          docLink.innerHTML = docLinkHtml;\n",
              "          element.appendChild(docLink);\n",
              "        }\n",
              "      </script>\n",
              "    </div>\n",
              "  </div>\n",
              "  "
            ]
          },
          "metadata": {},
          "execution_count": 63
        }
      ]
    },
    {
      "cell_type": "code",
      "source": [
        "previsao"
      ],
      "metadata": {
        "colab": {
          "base_uri": "https://localhost:8080/"
        },
        "id": "44eSqdQamwJw",
        "outputId": "5da3b27a-b879-4813-fb3d-68d4b554a957"
      },
      "execution_count": null,
      "outputs": [
        {
          "output_type": "execute_result",
          "data": {
            "text/plain": [
              "array([[-4.870545]], dtype=float32)"
            ]
          },
          "metadata": {},
          "execution_count": 64
        }
      ]
    },
    {
      "cell_type": "code",
      "source": [
        "listaPrev = []\n",
        "\n",
        "for i in range(df_tabular.shape[0]):\n",
        "  aux = df_tabular.iloc[i:(i+1)]\n",
        "  previsao = Modelo_Multimodal.predict([amostra, aux])#aux tem UM par lat long\n",
        "  listaPrev.append(previsao)#na lista vou ter as previsões pra UM instante de tempo pra toda região"
      ],
      "metadata": {
        "id": "vF9GfvTrm0L0"
      },
      "execution_count": null,
      "outputs": []
    },
    {
      "cell_type": "code",
      "source": [
        "print(listaPrev)"
      ],
      "metadata": {
        "colab": {
          "base_uri": "https://localhost:8080/"
        },
        "id": "JHYsH5lineac",
        "outputId": "05d99d41-c7eb-49f4-cdd9-b9bdc3dddbee"
      },
      "execution_count": null,
      "outputs": [
        {
          "output_type": "stream",
          "name": "stdout",
          "text": [
            "[array([[-1.7385339]], dtype=float32), array([[-1.7385361]], dtype=float32), array([[-1.7385372]], dtype=float32), array([[-1.7385423]], dtype=float32), array([[-1.7385433]], dtype=float32), array([[-1.738547]], dtype=float32), array([[-1.7385508]], dtype=float32), array([[-1.7385536]], dtype=float32), array([[-1.7385539]], dtype=float32), array([[-1.7385567]], dtype=float32), array([[-1.7385622]], dtype=float32), array([[-1.7385646]], dtype=float32), array([[-1.7385647]], dtype=float32), array([[-1.7385663]], dtype=float32), array([[-1.7385728]], dtype=float32), array([[-1.7385329]], dtype=float32), array([[-1.7385354]], dtype=float32), array([[-1.7385396]], dtype=float32), array([[-1.7385399]], dtype=float32), array([[-1.7385439]], dtype=float32), array([[-1.7385483]], dtype=float32), array([[-1.7385478]], dtype=float32), array([[-1.7385513]], dtype=float32), array([[-1.738556]], dtype=float32), array([[-1.7385579]], dtype=float32), array([[-1.7385607]], dtype=float32), array([[-1.7385626]], dtype=float32), array([[-1.7385631]], dtype=float32), array([[-1.7385681]], dtype=float32), array([[-1.7385706]], dtype=float32), array([[-1.738532]], dtype=float32), array([[-1.7385337]], dtype=float32), array([[-1.7385381]], dtype=float32), array([[-1.7385392]], dtype=float32), array([[-1.7385422]], dtype=float32), array([[-1.7385445]], dtype=float32), array([[-1.7385492]], dtype=float32), array([[-1.7385509]], dtype=float32), array([[-1.738555]], dtype=float32), array([[-1.7385579]], dtype=float32), array([[-1.7385608]], dtype=float32), array([[-1.7385625]], dtype=float32), array([[-1.7385635]], dtype=float32), array([[-1.7385674]], dtype=float32), array([[-1.7385705]], dtype=float32), array([[-1.7385312]], dtype=float32), array([[-1.7385341]], dtype=float32), array([[-1.7385384]], dtype=float32), array([[-1.7385387]], dtype=float32), array([[-1.7385433]], dtype=float32), array([[-1.738543]], dtype=float32), array([[-1.7385473]], dtype=float32), array([[-1.7385507]], dtype=float32), array([[-1.7385545]], dtype=float32), array([[-1.7385572]], dtype=float32), array([[-1.7385579]], dtype=float32), array([[-1.7385612]], dtype=float32), array([[-1.7385637]], dtype=float32), array([[-1.7385674]], dtype=float32), array([[-1.7385702]], dtype=float32), array([[-1.7385293]], dtype=float32), array([[-1.7385334]], dtype=float32), array([[-1.7385362]], dtype=float32), array([[-1.7385418]], dtype=float32), array([[-1.7385411]], dtype=float32), array([[-1.738544]], dtype=float32), array([[-1.7385491]], dtype=float32), array([[-1.7385492]], dtype=float32), array([[-1.7385526]], dtype=float32), array([[-1.7385541]], dtype=float32), array([[-1.7385572]], dtype=float32), array([[-1.7385595]], dtype=float32), array([[-1.7385616]], dtype=float32), array([[-1.7385654]], dtype=float32), array([[-1.7385687]], dtype=float32), array([[-1.7385296]], dtype=float32), array([[-1.7385321]], dtype=float32), array([[-1.738535]], dtype=float32), array([[-1.738539]], dtype=float32), array([[-1.7385415]], dtype=float32), array([[-1.7385427]], dtype=float32), array([[-1.7385471]], dtype=float32), array([[-1.7385492]], dtype=float32), array([[-1.7385522]], dtype=float32), array([[-1.7385538]], dtype=float32), array([[-1.738556]], dtype=float32), array([[-1.7385595]], dtype=float32), array([[-1.7385625]], dtype=float32), array([[-1.7385645]], dtype=float32), array([[-1.7385666]], dtype=float32), array([[-1.7385299]], dtype=float32), array([[-1.7385309]], dtype=float32), array([[-1.7385358]], dtype=float32), array([[-1.7385391]], dtype=float32), array([[-1.7385387]], dtype=float32), array([[-1.7385454]], dtype=float32), array([[-1.7385453]], dtype=float32), array([[-1.7385473]], dtype=float32), array([[-1.7385498]], dtype=float32), array([[-1.738552]], dtype=float32), array([[-1.7385578]], dtype=float32), array([[-1.7385585]], dtype=float32), array([[-1.7385621]], dtype=float32), array([[-1.738563]], dtype=float32), array([[-1.7385646]], dtype=float32), array([[-1.7385284]], dtype=float32), array([[-1.7385296]], dtype=float32), array([[-1.7385337]], dtype=float32), array([[-1.7385375]], dtype=float32), array([[-1.7385381]], dtype=float32), array([[-1.7385405]], dtype=float32), array([[-1.7385446]], dtype=float32), array([[-1.7385471]], dtype=float32), array([[-1.7385516]], dtype=float32), array([[-1.7385523]], dtype=float32), array([[-1.7385557]], dtype=float32), array([[-1.7385582]], dtype=float32), array([[-1.738561]], dtype=float32), array([[-1.7385638]], dtype=float32), array([[-1.7385682]], dtype=float32), array([[-1.7385268]], dtype=float32), array([[-1.7385331]], dtype=float32), array([[-1.7385334]], dtype=float32), array([[-1.7385359]], dtype=float32), array([[-1.738538]], dtype=float32), array([[-1.7385408]], dtype=float32), array([[-1.7385445]], dtype=float32), array([[-1.7385465]], dtype=float32), array([[-1.7385489]], dtype=float32), array([[-1.7385536]], dtype=float32), array([[-1.7385557]], dtype=float32), array([[-1.7385566]], dtype=float32), array([[-1.7385616]], dtype=float32), array([[-1.7385632]], dtype=float32), array([[-1.7385651]], dtype=float32), array([[-1.738526]], dtype=float32), array([[-1.7385322]], dtype=float32), array([[-1.7385328]], dtype=float32), array([[-1.7385356]], dtype=float32), array([[-1.7385386]], dtype=float32), array([[-1.7385415]], dtype=float32), array([[-1.7385426]], dtype=float32), array([[-1.7385478]], dtype=float32), array([[-1.7385508]], dtype=float32), array([[-1.7385509]], dtype=float32), array([[-1.7385534]], dtype=float32), array([[-1.7385572]], dtype=float32), array([[-1.738559]], dtype=float32), array([[-1.7385627]], dtype=float32), array([[-1.7385657]], dtype=float32), array([[-1.7385259]], dtype=float32), array([[-1.7385298]], dtype=float32), array([[-1.7385328]], dtype=float32), array([[-1.7385354]], dtype=float32), array([[-1.7385375]], dtype=float32), array([[-1.7385403]], dtype=float32), array([[-1.7385415]], dtype=float32), array([[-1.7385472]], dtype=float32), array([[-1.738548]], dtype=float32), array([[-1.7385507]], dtype=float32), array([[-1.7385544]], dtype=float32), array([[-1.7385565]], dtype=float32), array([[-1.7385578]], dtype=float32), array([[-1.7385613]], dtype=float32), array([[-1.738564]], dtype=float32), array([[-1.7385253]], dtype=float32), array([[-1.7385298]], dtype=float32), array([[-1.7385312]], dtype=float32), array([[-1.7385343]], dtype=float32), array([[-1.738537]], dtype=float32), array([[-1.73854]], dtype=float32), array([[-1.738541]], dtype=float32), array([[-1.7385455]], dtype=float32), array([[-1.7385463]], dtype=float32), array([[-1.7385522]], dtype=float32), array([[-1.7385515]], dtype=float32), array([[-1.738555]], dtype=float32), array([[-1.7385583]], dtype=float32), array([[-1.7385601]], dtype=float32), array([[-1.7385648]], dtype=float32), array([[-1.7385242]], dtype=float32), array([[-1.7385265]], dtype=float32), array([[-1.7385302]], dtype=float32), array([[-1.7385337]], dtype=float32), array([[-1.7385362]], dtype=float32), array([[-1.7385389]], dtype=float32), array([[-1.7385421]], dtype=float32), array([[-1.7385436]], dtype=float32), array([[-1.7385464]], dtype=float32), array([[-1.7385502]], dtype=float32), array([[-1.7385519]], dtype=float32), array([[-1.7385566]], dtype=float32), array([[-1.7385575]], dtype=float32), array([[-1.73856]], dtype=float32), array([[-1.7385621]], dtype=float32), array([[-1.7385248]], dtype=float32), array([[-1.7385263]], dtype=float32), array([[-1.738528]], dtype=float32), array([[-1.7385314]], dtype=float32), array([[-1.7385348]], dtype=float32), array([[-1.7385367]], dtype=float32), array([[-1.7385403]], dtype=float32), array([[-1.7385441]], dtype=float32), array([[-1.7385466]], dtype=float32), array([[-1.7385488]], dtype=float32), array([[-1.7385514]], dtype=float32), array([[-1.7385542]], dtype=float32), array([[-1.7385551]], dtype=float32), array([[-1.7385608]], dtype=float32), array([[-1.7385631]], dtype=float32), array([[-1.7385255]], dtype=float32), array([[-1.7385263]], dtype=float32), array([[-1.73853]], dtype=float32), array([[-1.7385327]], dtype=float32), array([[-1.7385342]], dtype=float32), array([[-1.7385378]], dtype=float32), array([[-1.7385409]], dtype=float32), array([[-1.7385429]], dtype=float32), array([[-1.7385451]], dtype=float32), array([[-1.7385479]], dtype=float32), array([[-1.738551]], dtype=float32), array([[-1.7385515]], dtype=float32), array([[-1.738556]], dtype=float32), array([[-1.7385587]], dtype=float32), array([[-1.7385622]], dtype=float32), array([[-1.7385223]], dtype=float32), array([[-1.7385244]], dtype=float32), array([[-1.7385285]], dtype=float32), array([[-1.7385314]], dtype=float32), array([[-1.7385353]], dtype=float32), array([[-1.7385367]], dtype=float32), array([[-1.7385391]], dtype=float32), array([[-1.7385435]], dtype=float32), array([[-1.7385441]], dtype=float32), array([[-1.7385482]], dtype=float32), array([[-1.738549]], dtype=float32), array([[-1.7385532]], dtype=float32), array([[-1.7385554]], dtype=float32), array([[-1.7385583]], dtype=float32), array([[-1.7385601]], dtype=float32), array([[-1.7385236]], dtype=float32), array([[-1.738523]], dtype=float32), array([[-1.7385275]], dtype=float32), array([[-1.7385306]], dtype=float32), array([[-1.7385333]], dtype=float32), array([[-1.7385353]], dtype=float32), array([[-1.7385404]], dtype=float32), array([[-1.7385418]], dtype=float32), array([[-1.7385432]], dtype=float32), array([[-1.738547]], dtype=float32), array([[-1.73855]], dtype=float32), array([[-1.7385504]], dtype=float32), array([[-1.7385553]], dtype=float32), array([[-1.738556]], dtype=float32), array([[-1.7385589]], dtype=float32), array([[-1.7385219]], dtype=float32), array([[-1.7385222]], dtype=float32), array([[-1.7385268]], dtype=float32), array([[-1.7385299]], dtype=float32), array([[-1.7385318]], dtype=float32), array([[-1.7385343]], dtype=float32), array([[-1.738538]], dtype=float32), array([[-1.7385405]], dtype=float32), array([[-1.7385411]], dtype=float32), array([[-1.7385471]], dtype=float32), array([[-1.7385486]], dtype=float32), array([[-1.7385519]], dtype=float32), array([[-1.7385532]], dtype=float32), array([[-1.7385569]], dtype=float32), array([[-1.738557]], dtype=float32), array([[-1.738522]], dtype=float32), array([[-1.7385215]], dtype=float32), array([[-1.7385259]], dtype=float32), array([[-1.7385286]], dtype=float32), array([[-1.7385321]], dtype=float32), array([[-1.7385341]], dtype=float32), array([[-1.7385381]], dtype=float32), array([[-1.7385399]], dtype=float32), array([[-1.7385422]], dtype=float32), array([[-1.738546]], dtype=float32), array([[-1.7385471]], dtype=float32), array([[-1.7385495]], dtype=float32), array([[-1.7385546]], dtype=float32), array([[-1.7385557]], dtype=float32), array([[-1.738557]], dtype=float32), array([[-1.7385193]], dtype=float32), array([[-1.7385217]], dtype=float32), array([[-1.7385261]], dtype=float32), array([[-1.7385274]], dtype=float32), array([[-1.7385321]], dtype=float32), array([[-1.7385341]], dtype=float32), array([[-1.7385349]], dtype=float32), array([[-1.7385405]], dtype=float32), array([[-1.7385418]], dtype=float32), array([[-1.7385441]], dtype=float32), array([[-1.7385467]], dtype=float32), array([[-1.7385483]], dtype=float32), array([[-1.738552]], dtype=float32), array([[-1.7385546]], dtype=float32), array([[-1.7385587]], dtype=float32), array([[-1.7385204]], dtype=float32), array([[-1.7385218]], dtype=float32), array([[-1.7385232]], dtype=float32), array([[-1.7385256]], dtype=float32), array([[-1.7385299]], dtype=float32), array([[-1.7385337]], dtype=float32), array([[-1.7385339]], dtype=float32), array([[-1.7385385]], dtype=float32), array([[-1.7385406]], dtype=float32), array([[-1.7385433]], dtype=float32), array([[-1.7385464]], dtype=float32), array([[-1.7385476]], dtype=float32), array([[-1.7385526]], dtype=float32), array([[-1.738556]], dtype=float32), array([[-1.7385582]], dtype=float32), array([[-1.7385193]], dtype=float32), array([[-1.7385206]], dtype=float32), array([[-1.7385232]], dtype=float32), array([[-1.7385256]], dtype=float32), array([[-1.7385294]], dtype=float32), array([[-1.7385328]], dtype=float32), array([[-1.7385349]], dtype=float32), array([[-1.7385371]], dtype=float32), array([[-1.738538]], dtype=float32), array([[-1.7385434]], dtype=float32), array([[-1.738545]], dtype=float32), array([[-1.7385491]], dtype=float32), array([[-1.73855]], dtype=float32), array([[-1.7385535]], dtype=float32), array([[-1.7385573]], dtype=float32), array([[-1.7385186]], dtype=float32), array([[-1.7385201]], dtype=float32), array([[-1.7385238]], dtype=float32), array([[-1.7385256]], dtype=float32), array([[-1.7385279]], dtype=float32), array([[-1.7385334]], dtype=float32), array([[-1.738535]], dtype=float32), array([[-1.7385372]], dtype=float32), array([[-1.7385391]], dtype=float32), array([[-1.7385424]], dtype=float32), array([[-1.7385459]], dtype=float32), array([[-1.7385478]], dtype=float32), array([[-1.7385509]], dtype=float32), array([[-1.7385545]], dtype=float32), array([[-1.7385552]], dtype=float32), array([[-1.738517]], dtype=float32), array([[-1.7385197]], dtype=float32), array([[-1.7385218]], dtype=float32), array([[-1.7385273]], dtype=float32), array([[-1.738529]], dtype=float32), array([[-1.7385302]], dtype=float32), array([[-1.7385348]], dtype=float32), array([[-1.7385364]], dtype=float32), array([[-1.7385395]], dtype=float32), array([[-1.7385424]], dtype=float32), array([[-1.7385452]], dtype=float32), array([[-1.7385454]], dtype=float32), array([[-1.7385494]], dtype=float32), array([[-1.7385505]], dtype=float32), array([[-1.738556]], dtype=float32), array([[-1.7385156]], dtype=float32), array([[-1.7385209]], dtype=float32), array([[-1.7385223]], dtype=float32), array([[-1.7385252]], dtype=float32), array([[-1.7385277]], dtype=float32), array([[-1.7385312]], dtype=float32), array([[-1.738532]], dtype=float32), array([[-1.7385352]], dtype=float32), array([[-1.7385385]], dtype=float32), array([[-1.7385404]], dtype=float32), array([[-1.7385443]], dtype=float32), array([[-1.7385459]], dtype=float32), array([[-1.7385482]], dtype=float32), array([[-1.7385517]], dtype=float32), array([[-1.7385538]], dtype=float32), array([[-1.738515]], dtype=float32), array([[-1.7385199]], dtype=float32), array([[-1.7385225]], dtype=float32), array([[-1.7385232]], dtype=float32), array([[-1.7385249]], dtype=float32), array([[-1.7385287]], dtype=float32), array([[-1.7385316]], dtype=float32), array([[-1.7385339]], dtype=float32), array([[-1.7385384]], dtype=float32), array([[-1.7385414]], dtype=float32), array([[-1.7385442]], dtype=float32), array([[-1.7385465]], dtype=float32), array([[-1.7385495]], dtype=float32), array([[-1.7385529]], dtype=float32), array([[-1.7385538]], dtype=float32), array([[-1.7385157]], dtype=float32), array([[-1.7385175]], dtype=float32), array([[-1.7385194]], dtype=float32), array([[-1.738524]], dtype=float32), array([[-1.7385255]], dtype=float32), array([[-1.7385291]], dtype=float32), array([[-1.7385318]], dtype=float32), array([[-1.7385334]], dtype=float32), array([[-1.7385375]], dtype=float32), array([[-1.7385399]], dtype=float32), array([[-1.738545]], dtype=float32), array([[-1.738545]], dtype=float32), array([[-1.7385473]], dtype=float32), array([[-1.7385497]], dtype=float32), array([[-1.738554]], dtype=float32), array([[-1.7385148]], dtype=float32), array([[-1.7385178]], dtype=float32), array([[-1.7385209]], dtype=float32), array([[-1.7385238]], dtype=float32), array([[-1.7385246]], dtype=float32), array([[-1.7385285]], dtype=float32), array([[-1.7385323]], dtype=float32), array([[-1.7385318]], dtype=float32), array([[-1.7385371]], dtype=float32), array([[-1.738539]], dtype=float32), array([[-1.7385406]], dtype=float32), array([[-1.7385424]], dtype=float32), array([[-1.7385471]], dtype=float32), array([[-1.7385503]], dtype=float32), array([[-1.7385504]], dtype=float32), array([[-1.738515]], dtype=float32), array([[-1.7385168]], dtype=float32), array([[-1.7385213]], dtype=float32), array([[-1.7385215]], dtype=float32), array([[-1.7385253]], dtype=float32), array([[-1.7385268]], dtype=float32), array([[-1.7385308]], dtype=float32), array([[-1.7385324]], dtype=float32), array([[-1.738536]], dtype=float32), array([[-1.7385399]], dtype=float32), array([[-1.73854]], dtype=float32), array([[-1.7385428]], dtype=float32), array([[-1.7385455]], dtype=float32), array([[-1.738548]], dtype=float32), array([[-1.7385497]], dtype=float32), array([[-1.738514]], dtype=float32), array([[-1.7385179]], dtype=float32), array([[-1.7385186]], dtype=float32), array([[-1.738522]], dtype=float32), array([[-1.7385254]], dtype=float32), array([[-1.7385281]], dtype=float32), array([[-1.7385297]], dtype=float32), array([[-1.7385355]], dtype=float32), array([[-1.7385358]], dtype=float32), array([[-1.7385352]], dtype=float32), array([[-1.7385402]], dtype=float32), array([[-1.7385432]], dtype=float32), array([[-1.7385443]], dtype=float32), array([[-1.7385467]], dtype=float32), array([[-1.7385521]], dtype=float32), array([[-1.7385119]], dtype=float32), array([[-1.7385161]], dtype=float32), array([[-1.7385174]], dtype=float32), array([[-1.7385206]], dtype=float32), array([[-1.7385224]], dtype=float32), array([[-1.7385266]], dtype=float32), array([[-1.7385286]], dtype=float32), array([[-1.7385308]], dtype=float32), array([[-1.7385339]], dtype=float32), array([[-1.7385367]], dtype=float32), array([[-1.7385393]], dtype=float32), array([[-1.7385423]], dtype=float32), array([[-1.7385434]], dtype=float32), array([[-1.7385455]], dtype=float32), array([[-1.7385514]], dtype=float32), array([[-1.7385128]], dtype=float32), array([[-1.738514]], dtype=float32), array([[-1.7385166]], dtype=float32), array([[-1.7385186]], dtype=float32), array([[-1.7385218]], dtype=float32), array([[-1.7385253]], dtype=float32), array([[-1.738529]], dtype=float32), array([[-1.7385286]], dtype=float32), array([[-1.7385341]], dtype=float32), array([[-1.7385358]], dtype=float32), array([[-1.7385399]], dtype=float32), array([[-1.7385416]], dtype=float32), array([[-1.7385459]], dtype=float32), array([[-1.7385476]], dtype=float32), array([[-1.7385488]], dtype=float32), array([[-1.7385095]], dtype=float32), array([[-1.7385126]], dtype=float32), array([[-1.7385156]], dtype=float32), array([[-1.7385212]], dtype=float32), array([[-1.7385228]], dtype=float32), array([[-1.738524]], dtype=float32), array([[-1.7385268]], dtype=float32), array([[-1.7385297]], dtype=float32), array([[-1.7385325]], dtype=float32), array([[-1.738537]], dtype=float32), array([[-1.7385393]], dtype=float32), array([[-1.738541]], dtype=float32), array([[-1.7385458]], dtype=float32), array([[-1.7385467]], dtype=float32), array([[-1.7385491]], dtype=float32), array([[-1.7385097]], dtype=float32), array([[-1.7385126]], dtype=float32), array([[-1.7385173]], dtype=float32), array([[-1.7385186]], dtype=float32), array([[-1.7385231]], dtype=float32), array([[-1.7385247]], dtype=float32), array([[-1.7385278]], dtype=float32), array([[-1.7385297]], dtype=float32), array([[-1.7385323]], dtype=float32), array([[-1.7385354]], dtype=float32), array([[-1.7385391]], dtype=float32), array([[-1.7385404]], dtype=float32), array([[-1.7385433]], dtype=float32), array([[-1.7385461]], dtype=float32), array([[-1.7385489]], dtype=float32), array([[-1.7385086]], dtype=float32), array([[-1.7385114]], dtype=float32), array([[-1.7385148]], dtype=float32), array([[-1.7385172]], dtype=float32), array([[-1.7385204]], dtype=float32), array([[-1.738525]], dtype=float32), array([[-1.7385265]], dtype=float32), array([[-1.7385277]], dtype=float32), array([[-1.7385312]], dtype=float32), array([[-1.7385364]], dtype=float32), array([[-1.7385362]], dtype=float32), array([[-1.7385398]], dtype=float32), array([[-1.7385409]], dtype=float32), array([[-1.7385441]], dtype=float32), array([[-1.7385468]], dtype=float32), array([[-1.7385094]], dtype=float32), array([[-1.7385124]], dtype=float32), array([[-1.7385154]], dtype=float32), array([[-1.7385174]], dtype=float32), array([[-1.7385206]], dtype=float32), array([[-1.7385215]], dtype=float32), array([[-1.738525]], dtype=float32), array([[-1.7385283]], dtype=float32), array([[-1.7385293]], dtype=float32), array([[-1.7385333]], dtype=float32), array([[-1.7385359]], dtype=float32), array([[-1.7385408]], dtype=float32), array([[-1.7385417]], dtype=float32), array([[-1.7385455]], dtype=float32), array([[-1.7385466]], dtype=float32)]\n"
          ]
        }
      ]
    },
    {
      "cell_type": "code",
      "source": [
        "array = np.array(listaPrev)"
      ],
      "metadata": {
        "id": "0wBJOLJ5ns3d"
      },
      "execution_count": null,
      "outputs": []
    },
    {
      "cell_type": "code",
      "source": [
        "array.shape = (36, 15)"
      ],
      "metadata": {
        "id": "V0WgKg3vnwtt"
      },
      "execution_count": null,
      "outputs": []
    },
    {
      "cell_type": "code",
      "source": [
        "#na regiao sul chove mais (amarelo)\n",
        "#eixo x é longitude\n",
        "#eixo y é latitude\n",
        "#quando aumenta o indice vai pra esquerda (ando pra esquerda a chuva diminuiu no eixo x)\n",
        "plt.imshow(array)\n",
        "plt.xlabel('longitude')\n",
        "plt.ylabel('latitude')\n",
        "plt.colorbar()\n",
        "plt.show()"
      ],
      "metadata": {
        "colab": {
          "base_uri": "https://localhost:8080/",
          "height": 290
        },
        "id": "VAHECZunn_98",
        "outputId": "8c9cda3e-b62a-482d-95cb-d591f8bac108"
      },
      "execution_count": null,
      "outputs": [
        {
          "output_type": "display_data",
          "data": {
            "text/plain": [
              "<Figure size 432x288 with 2 Axes>"
            ],
            "image/png": "[encoded data removed]"
          },
          "metadata": {
            "needs_background": "light"
          }
        }
      ]
    },
    {
      "cell_type": "code",
      "source": [
        "import seaborn as sns"
      ],
      "metadata": {
        "id": "ULbDy_BmDdxy"
      },
      "execution_count": null,
      "outputs": []
    },
    {
      "cell_type": "code",
      "source": [
        "sns.heatmap(array)"
      ],
      "metadata": {
        "colab": {
          "base_uri": "https://localhost:8080/",
          "height": 294
        },
        "id": "xuaMQXZbEKAr",
        "outputId": "2f5ff195-6152-40e6-f2a4-05453b31d36e"
      },
      "execution_count": null,
      "outputs": [
        {
          "output_type": "execute_result",
          "data": {
            "text/plain": [
              "<matplotlib.axes._subplots.AxesSubplot at 0x7fd154478790>"
            ]
          },
          "metadata": {},
          "execution_count": 94
        },
        {
          "output_type": "display_data",
          "data": {
            "text/plain": [
              "<Figure size 432x288 with 2 Axes>"
            ],
            "image/png": "[encoded data removed]"
          },
          "metadata": {
            "needs_background": "light"
          }
        }
      ]
    }
  ]
}